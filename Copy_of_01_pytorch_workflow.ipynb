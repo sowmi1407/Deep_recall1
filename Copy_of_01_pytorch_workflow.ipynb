{
  "nbformat": 4,
  "nbformat_minor": 0,
  "metadata": {
    "colab": {
      "provenance": [],
      "include_colab_link": true
    },
    "kernelspec": {
      "name": "python3",
      "display_name": "Python 3"
    },
    "language_info": {
      "name": "python"
    }
  },
  "cells": [
    {
      "cell_type": "markdown",
      "metadata": {
        "id": "view-in-github",
        "colab_type": "text"
      },
      "source": [
        "<a href=\"https://colab.research.google.com/github/sowmi1407/Deep_recall1/blob/main/Copy_of_01_pytorch_workflow.ipynb\" target=\"_parent\"><img src=\"https://colab.research.google.com/assets/colab-badge.svg\" alt=\"Open In Colab\"/></a>"
      ]
    },
    {
      "cell_type": "markdown",
      "source": [
        "#PyTorch Workflow\n",
        "\n",
        "Exploring an example of end to end PyTorch workflow example\n"
      ],
      "metadata": {
        "id": "hxwAnzcrmG1_"
      }
    },
    {
      "cell_type": "markdown",
      "source": [
        "##What is covered\n",
        "1. Data- preparing and loading data\n",
        "2. Building Model\n",
        "3. Fitting the model to data\n",
        "4. Making predictions and evaluating it\n",
        "5. Saving and loading a model\n"
      ],
      "metadata": {
        "id": "rIvRGrk6mMLs"
      }
    },
    {
      "cell_type": "code",
      "source": [
        "import torch\n",
        "from torch import nn\n",
        "import numpy as np\n",
        "import matplotlib.pyplot as plt\n",
        "\n",
        "torch.__version__"
      ],
      "metadata": {
        "colab": {
          "base_uri": "https://localhost:8080/",
          "height": 36
        },
        "id": "TNfvZc2Kmtrj",
        "outputId": "7407d577-d247-440c-8535-7818f3effba5"
      },
      "execution_count": null,
      "outputs": [
        {
          "output_type": "execute_result",
          "data": {
            "text/plain": [
              "'1.13.0+cu116'"
            ],
            "application/vnd.google.colaboratory.intrinsic+json": {
              "type": "string"
            }
          },
          "metadata": {},
          "execution_count": 1
        }
      ]
    },
    {
      "cell_type": "markdown",
      "source": [
        "###1. Data- Preparing and Loading\n"
      ],
      "metadata": {
        "id": "N_W8zlIAm_9X"
      }
    },
    {
      "cell_type": "markdown",
      "source": [
        "We will create from data from the linear regression formula"
      ],
      "metadata": {
        "id": "4JTqOlCnnsX6"
      }
    },
    {
      "cell_type": "code",
      "source": [
        "#creating the known values\n",
        "weight=0.7\n",
        "bias=0.3\n",
        "\n",
        "#create\n",
        "start=0\n",
        "end=1\n",
        "step=0.02\n",
        "X=torch.arange(start,end,step).unsqueeze(dim=1)\n",
        "y=weight*X+bias\n",
        "\n",
        "X[:10],y[:10]"
      ],
      "metadata": {
        "colab": {
          "base_uri": "https://localhost:8080/"
        },
        "id": "3l4hJmR6nE--",
        "outputId": "a6630f21-227c-48b7-a575-70afc5a797f3"
      },
      "execution_count": null,
      "outputs": [
        {
          "output_type": "execute_result",
          "data": {
            "text/plain": [
              "(tensor([[0.0000],\n",
              "         [0.0200],\n",
              "         [0.0400],\n",
              "         [0.0600],\n",
              "         [0.0800],\n",
              "         [0.1000],\n",
              "         [0.1200],\n",
              "         [0.1400],\n",
              "         [0.1600],\n",
              "         [0.1800]]), tensor([[0.3000],\n",
              "         [0.3140],\n",
              "         [0.3280],\n",
              "         [0.3420],\n",
              "         [0.3560],\n",
              "         [0.3700],\n",
              "         [0.3840],\n",
              "         [0.3980],\n",
              "         [0.4120],\n",
              "         [0.4260]]))"
            ]
          },
          "metadata": {},
          "execution_count": 2
        }
      ]
    },
    {
      "cell_type": "code",
      "source": [
        "len(X),len(y)"
      ],
      "metadata": {
        "colab": {
          "base_uri": "https://localhost:8080/"
        },
        "id": "bP1r8bY5pB2u",
        "outputId": "aff8ba87-92d4-4bb1-d8e1-d36700d7fb90"
      },
      "execution_count": null,
      "outputs": [
        {
          "output_type": "execute_result",
          "data": {
            "text/plain": [
              "(50, 50)"
            ]
          },
          "metadata": {},
          "execution_count": 3
        }
      ]
    },
    {
      "cell_type": "code",
      "source": [
        "#splitting data into training and test datasets\n",
        "train_split=int(0.8*len(X))\n",
        "X_train,y_train=X[:train_split],y[:train_split]\n",
        "X_test,y_test=X[train_split:],y[train_split:]\n",
        "\n",
        "len(X_train),len(y_train)"
      ],
      "metadata": {
        "colab": {
          "base_uri": "https://localhost:8080/"
        },
        "id": "ig17Sl3LoStG",
        "outputId": "120640e0-6902-43ba-afd2-142fe2f91d5c"
      },
      "execution_count": null,
      "outputs": [
        {
          "output_type": "execute_result",
          "data": {
            "text/plain": [
              "(40, 40)"
            ]
          },
          "metadata": {},
          "execution_count": 4
        }
      ]
    },
    {
      "cell_type": "code",
      "source": [
        "def plot_predictions(train_data=X_train,train_labels=y_train,test_data=X_test,test_labels=y_test,predictions=None):\n",
        "  \"\"\"\n",
        "  Plots training data, test data,and compares predictions\n",
        "  \"\"\"\n",
        "  plt.figure(figsize=(10,7))\n",
        "  #plot training data\n",
        "  plt.scatter(train_data,train_labels,c='b',s=4,label=\"Training data\")\n",
        "\n",
        "  #plot test data\n",
        "  plt.scatter(test_data,test_labels,c='g',s=4,label=\"Testing data\")\n",
        "\n",
        "  #plot predictions if they exist\n",
        "  if predictions is not None:\n",
        "    plt.scatter(test_data,predictions,c=\"r\",s=4,label=\"Predictions\")\n",
        "\n",
        "  plt.legend(prop={'size':14})\n"
      ],
      "metadata": {
        "id": "HN4D6gqEpARw"
      },
      "execution_count": null,
      "outputs": []
    },
    {
      "cell_type": "code",
      "source": [
        "plot_predictions()"
      ],
      "metadata": {
        "colab": {
          "base_uri": "https://localhost:8080/",
          "height": 428
        },
        "id": "3qDYs9wtqlpz",
        "outputId": "aab5c40e-5d6b-4b43-8f34-385b2dab6dbd"
      },
      "execution_count": null,
      "outputs": [
        {
          "output_type": "display_data",
          "data": {
            "text/plain": [
              "<Figure size 720x504 with 1 Axes>"
            ],
            "image/png": "[encoded data removed]"
          },
          "metadata": {
            "needs_background": "light"
          }
        }
      ]
    },
    {
      "cell_type": "markdown",
      "source": [
        "###2. Building the first Model"
      ],
      "metadata": {
        "id": "jxELYkcRr2Zd"
      }
    },
    {
      "cell_type": "code",
      "source": [
        "#creating linear regression model class\n",
        "\n",
        "class LinearRegressionModel(nn.Module):\n",
        "  def __init__(self):\n",
        "    super().__init__()\n",
        "    self.weights=nn.Parameter(torch.randn(1,requires_grad=True, #start with random values and store the gradient to implement gradient descent\n",
        "                                          dtype=torch.float))\n",
        "    self.bias=nn.Parameter(torch.randn(1,requires_grad=True, #start with random values and store gradients to implement gradient descent\n",
        "                                       dtype=torch.float))\n",
        "\n",
        "  #forward method to define the computation in the model\n",
        "  def forward(self, x:torch.Tensor) -> torch.Tensor: #takes in x the input and converts it into a torch tensor\n",
        "    return self.weights*x + self.bias #returns the linear regression formula"
      ],
      "metadata": {
        "id": "eihpNYCgr7Gn"
      },
      "execution_count": null,
      "outputs": []
    },
    {
      "cell_type": "markdown",
      "source": [
        "Pytroch Model Building Essential\n",
        "\n",
        "1. torch.nn - contains all of the buildings for computational graphs\n",
        "2. torch.nn.Parameter - what parameters should our model try and learn\n",
        "3. torch.nn.Module - the base class for all neural network modules\n",
        "4. torch.optim - where the optimizers in PyTorch live they help with gradient descent\n",
        "5. def forward() - forward prop module for the computation that the model has to do"
      ],
      "metadata": {
        "id": "l6pTRuAMv0oW"
      }
    },
    {
      "cell_type": "code",
      "source": [
        "#create random seed\n",
        "torch.manual_seed(42)\n",
        "\n",
        "#create an instance of the model\n",
        "model_0=LinearRegressionModel()\n",
        "\n",
        " #checking the parameters\n",
        "list(model_0.parameters())"
      ],
      "metadata": {
        "colab": {
          "base_uri": "https://localhost:8080/"
        },
        "id": "fIg0n2VvvyDx",
        "outputId": "a11982ad-ca53-44c8-db84-8f149c649269"
      },
      "execution_count": null,
      "outputs": [
        {
          "output_type": "execute_result",
          "data": {
            "text/plain": [
              "[Parameter containing:\n",
              " tensor([0.3367], requires_grad=True), Parameter containing:\n",
              " tensor([0.1288], requires_grad=True)]"
            ]
          },
          "metadata": {},
          "execution_count": 17
        }
      ]
    },
    {
      "cell_type": "code",
      "source": [
        "#listing named parameters\n",
        "model_0.state_dict()"
      ],
      "metadata": {
        "colab": {
          "base_uri": "https://localhost:8080/"
        },
        "id": "vOIp5FRZx7c6",
        "outputId": "2284da37-b70e-4d93-f215-b86e0e2c9ac2"
      },
      "execution_count": null,
      "outputs": [
        {
          "output_type": "execute_result",
          "data": {
            "text/plain": [
              "OrderedDict([('weights', tensor([0.3367])), ('bias', tensor([0.1288]))])"
            ]
          },
          "metadata": {},
          "execution_count": 18
        }
      ]
    },
    {
      "cell_type": "markdown",
      "source": [
        "###Making Predictions\n",
        "\n",
        "We will make predictions using torch.inference_mode()"
      ],
      "metadata": {
        "id": "ONoL6O4_yMYm"
      }
    },
    {
      "cell_type": "code",
      "source": [
        "#make predictions\n",
        "with torch.inference_mode(): #inference mode turns off the gradient tracking\n",
        "  y_preds=model_0(X_test)\n",
        "\n",
        "y_preds"
      ],
      "metadata": {
        "colab": {
          "base_uri": "https://localhost:8080/"
        },
        "id": "KDJE9VMWzKa5",
        "outputId": "a09241a7-a6dd-4486-9704-39329d5383f5"
      },
      "execution_count": null,
      "outputs": [
        {
          "output_type": "execute_result",
          "data": {
            "text/plain": [
              "tensor([[0.3982],\n",
              "        [0.4049],\n",
              "        [0.4116],\n",
              "        [0.4184],\n",
              "        [0.4251],\n",
              "        [0.4318],\n",
              "        [0.4386],\n",
              "        [0.4453],\n",
              "        [0.4520],\n",
              "        [0.4588]])"
            ]
          },
          "metadata": {},
          "execution_count": 19
        }
      ]
    },
    {
      "cell_type": "markdown",
      "source": [
        "Use `torch.inference_mode()` to make predictions not for training"
      ],
      "metadata": {
        "id": "dkUaOaIIQsG9"
      }
    },
    {
      "cell_type": "code",
      "source": [
        "y_preds_no_grad=model_0(X_test)\n",
        "y_preds_no_grad"
      ],
      "metadata": {
        "colab": {
          "base_uri": "https://localhost:8080/"
        },
        "id": "qhYaejleQFwy",
        "outputId": "86b16028-0878-41c8-c07d-84ff6730c32b"
      },
      "execution_count": null,
      "outputs": [
        {
          "output_type": "execute_result",
          "data": {
            "text/plain": [
              "tensor([[0.3982],\n",
              "        [0.4049],\n",
              "        [0.4116],\n",
              "        [0.4184],\n",
              "        [0.4251],\n",
              "        [0.4318],\n",
              "        [0.4386],\n",
              "        [0.4453],\n",
              "        [0.4520],\n",
              "        [0.4588]], grad_fn=<AddBackward0>)"
            ]
          },
          "metadata": {},
          "execution_count": 20
        }
      ]
    },
    {
      "cell_type": "code",
      "source": [
        "y_test"
      ],
      "metadata": {
        "id": "WjqL5Q8DzbnO",
        "colab": {
          "base_uri": "https://localhost:8080/"
        },
        "outputId": "3200eea8-55c0-489a-f3e1-965f78231307"
      },
      "execution_count": null,
      "outputs": [
        {
          "output_type": "execute_result",
          "data": {
            "text/plain": [
              "tensor([[0.8600],\n",
              "        [0.8740],\n",
              "        [0.8880],\n",
              "        [0.9020],\n",
              "        [0.9160],\n",
              "        [0.9300],\n",
              "        [0.9440],\n",
              "        [0.9580],\n",
              "        [0.9720],\n",
              "        [0.9860]])"
            ]
          },
          "metadata": {},
          "execution_count": 21
        }
      ]
    },
    {
      "cell_type": "code",
      "source": [
        "plot_predictions(predictions=y_preds)"
      ],
      "metadata": {
        "colab": {
          "base_uri": "https://localhost:8080/",
          "height": 428
        },
        "id": "WMTual4SP1Pr",
        "outputId": "9a7b4ff9-f38f-463c-e10a-78fa11b6f530"
      },
      "execution_count": null,
      "outputs": [
        {
          "output_type": "display_data",
          "data": {
            "text/plain": [
              "<Figure size 720x504 with 1 Axes>"
            ],
            "image/png": "[encoded data removed]"
          },
          "metadata": {
            "needs_background": "light"
          }
        }
      ]
    },
    {
      "cell_type": "markdown",
      "source": [
        "###Training the model\n",
        "\n",
        "For PyTorch we need\n",
        "1. A training loop\n",
        "2. A testing loop"
      ],
      "metadata": {
        "id": "Nrni28bPP5aw"
      }
    },
    {
      "cell_type": "code",
      "source": [
        "#setting up a loss function and optimizer\n",
        "loss_fn=nn.L1Loss()\n",
        "\n",
        "optimizer=torch.optim.SGD(params=model_0.parameters(),\n",
        "                         lr=0.01,\n",
        "                         momentum=0.9)"
      ],
      "metadata": {
        "id": "keVzkRxHQ84A"
      },
      "execution_count": null,
      "outputs": []
    },
    {
      "cell_type": "markdown",
      "source": [
        "###Building a Training Loop\n",
        "\n",
        "What the loop does:\n",
        "1. Loop through the data\n",
        "2. Implement the forward pass\n",
        "3. Calculate the loss after the forward pass\n",
        "4. Backward propagation step\n",
        "5. Optimizer minimizes the loss\n"
      ],
      "metadata": {
        "id": "9y6aQScCT4Wl"
      }
    },
    {
      "cell_type": "code",
      "source": [
        "torch.manual_seed(42)\n",
        "epochs=100\n",
        "\n",
        "\n",
        "epoch_count=[]\n",
        "training_loss=[]\n",
        "testing_loss=[]\n",
        "\n",
        "#1. Looping through the data\n",
        "for epoch in range(epochs):\n",
        "  epoch_count.append(epoch)\n",
        "  #set the model to training mode\n",
        "  model_0.train()\n",
        "\n",
        "  #2. forward pass\n",
        "  y_pred=model_0(X_train)\n",
        "\n",
        "  #3. calculating loss\n",
        "  loss=loss_fn(y_pred,y_train)\n",
        "  training_loss.append(loss)\n",
        "  #print(f\"The loss is : {loss}\")\n",
        "  optimizer.zero_grad() #to prevent accumulation of gradient by optimizer in each epoch\n",
        "\n",
        "  #4. Backprop\n",
        "  loss.backward()\n",
        "\n",
        "  #5. optimizing\n",
        "  optimizer.step()\n",
        "\n",
        "  ###testing\n",
        "  model_0.eval()\n",
        "  with torch.inference_mode():\n",
        "    test_pred=model_0(X_test)\n",
        "    test_loss=loss_fn(test_pred,y_test)\n",
        "    testing_loss.append(test_loss)\n",
        "\n",
        "  if epoch%10==0:\n",
        "    print(f\" Epoch: {epoch} | Loss: {loss} | Test Loss: {test_loss}\")\n",
        "    print(model_0.state_dict())"
      ],
      "metadata": {
        "colab": {
          "base_uri": "https://localhost:8080/"
        },
        "id": "6hOa0b4pVVLi",
        "outputId": "ce2f6e51-c80d-4f1f-d136-9e495b5ff0dd"
      },
      "execution_count": null,
      "outputs": [
        {
          "output_type": "stream",
          "name": "stdout",
          "text": [
            " Epoch: 0 | Loss: 0.31288138031959534 | Test Loss: 0.48106518387794495\n",
            "OrderedDict([('weights', tensor([0.3406])), ('bias', tensor([0.1388]))])\n",
            " Epoch: 10 | Loss: 0.10313145816326141 | Test Loss: 0.026505161076784134\n",
            "OrderedDict([('weights', tensor([0.4982])), ('bias', tensor([0.5061]))])\n",
            " Epoch: 20 | Loss: 0.06960087269544601 | Test Loss: 0.1943041831254959\n",
            "OrderedDict([('weights', tensor([0.4652])), ('bias', tensor([0.3147]))])\n",
            " Epoch: 30 | Loss: 0.04656733572483063 | Test Loss: 0.027078520506620407\n",
            "OrderedDict([('weights', tensor([0.5785])), ('bias', tensor([0.3811]))])\n",
            " Epoch: 40 | Loss: 0.021285563707351685 | Test Loss: 0.001966828014701605\n",
            "OrderedDict([('weights', tensor([0.6690])), ('bias', tensor([0.3293]))])\n",
            " Epoch: 50 | Loss: 0.015717655420303345 | Test Loss: 0.0101406155154109\n",
            "OrderedDict([('weights', tensor([0.7189])), ('bias', tensor([0.2730]))])\n",
            " Epoch: 60 | Loss: 0.009445277974009514 | Test Loss: 0.02402856945991516\n",
            "OrderedDict([('weights', tensor([0.7263])), ('bias', tensor([0.3007]))])\n",
            " Epoch: 70 | Loss: 0.007414478808641434 | Test Loss: 0.007351130247116089\n",
            "OrderedDict([('weights', tensor([0.6937])), ('bias', tensor([0.2983]))])\n",
            " Epoch: 80 | Loss: 0.0018297977512702346 | Test Loss: 0.009309673681855202\n",
            "OrderedDict([('weights', tensor([0.6994])), ('bias', tensor([0.3098]))])\n",
            " Epoch: 90 | Loss: 0.004054517950862646 | Test Loss: 0.004079228732734919\n",
            "OrderedDict([('weights', tensor([0.7076])), ('bias', tensor([0.2892]))])\n"
          ]
        }
      ]
    },
    {
      "cell_type": "code",
      "source": [
        "with torch.inference_mode():\n",
        "  y_preds=model_0(X_test)\n",
        "\n",
        "plot_predictions(predictions=y_preds)"
      ],
      "metadata": {
        "colab": {
          "base_uri": "https://localhost:8080/",
          "height": 428
        },
        "id": "wgRIBw3FaAm8",
        "outputId": "cbc7f7b5-8681-4e59-af93-d9df2a20a979"
      },
      "execution_count": null,
      "outputs": [
        {
          "output_type": "display_data",
          "data": {
            "text/plain": [
              "<Figure size 720x504 with 1 Axes>"
            ],
            "image/png": "[encoded data removed]"
          },
          "metadata": {
            "needs_background": "light"
          }
        }
      ]
    },
    {
      "cell_type": "code",
      "source": [
        "training_loss,testing_loss\n"
      ],
      "metadata": {
        "colab": {
          "base_uri": "https://localhost:8080/"
        },
        "id": "iD6lP2H7aX-7",
        "outputId": "402a466a-4a50-4026-9168-41c636f5baed",
        "collapsed": true
      },
      "execution_count": null,
      "outputs": [
        {
          "output_type": "execute_result",
          "data": {
            "text/plain": [
              "([tensor(0.3129, grad_fn=<MeanBackward0>),\n",
              "  tensor(0.3014, grad_fn=<MeanBackward0>),\n",
              "  tensor(0.2795, grad_fn=<MeanBackward0>),\n",
              "  tensor(0.2482, grad_fn=<MeanBackward0>),\n",
              "  tensor(0.2086, grad_fn=<MeanBackward0>),\n",
              "  tensor(0.1614, grad_fn=<MeanBackward0>),\n",
              "  tensor(0.1079, grad_fn=<MeanBackward0>),\n",
              "  tensor(0.0654, grad_fn=<MeanBackward0>),\n",
              "  tensor(0.0509, grad_fn=<MeanBackward0>),\n",
              "  tensor(0.0679, grad_fn=<MeanBackward0>),\n",
              "  tensor(0.1031, grad_fn=<MeanBackward0>),\n",
              "  tensor(0.1274, grad_fn=<MeanBackward0>),\n",
              "  tensor(0.1377, grad_fn=<MeanBackward0>),\n",
              "  tensor(0.1355, grad_fn=<MeanBackward0>),\n",
              "  tensor(0.1220, grad_fn=<MeanBackward0>),\n",
              "  tensor(0.0983, grad_fn=<MeanBackward0>),\n",
              "  tensor(0.0675, grad_fn=<MeanBackward0>),\n",
              "  tensor(0.0483, grad_fn=<MeanBackward0>),\n",
              "  tensor(0.0465, grad_fn=<MeanBackward0>),\n",
              "  tensor(0.0565, grad_fn=<MeanBackward0>),\n",
              "  tensor(0.0696, grad_fn=<MeanBackward0>),\n",
              "  tensor(0.0784, grad_fn=<MeanBackward0>),\n",
              "  tensor(0.0792, grad_fn=<MeanBackward0>),\n",
              "  tensor(0.0713, grad_fn=<MeanBackward0>),\n",
              "  tensor(0.0578, grad_fn=<MeanBackward0>),\n",
              "  tensor(0.0440, grad_fn=<MeanBackward0>),\n",
              "  tensor(0.0355, grad_fn=<MeanBackward0>),\n",
              "  tensor(0.0355, grad_fn=<MeanBackward0>),\n",
              "  tensor(0.0425, grad_fn=<MeanBackward0>),\n",
              "  tensor(0.0488, grad_fn=<MeanBackward0>),\n",
              "  tensor(0.0466, grad_fn=<MeanBackward0>),\n",
              "  tensor(0.0360, grad_fn=<MeanBackward0>),\n",
              "  tensor(0.0262, grad_fn=<MeanBackward0>),\n",
              "  tensor(0.0239, grad_fn=<MeanBackward0>),\n",
              "  tensor(0.0279, grad_fn=<MeanBackward0>),\n",
              "  tensor(0.0320, grad_fn=<MeanBackward0>),\n",
              "  tensor(0.0306, grad_fn=<MeanBackward0>),\n",
              "  tensor(0.0227, grad_fn=<MeanBackward0>),\n",
              "  tensor(0.0140, grad_fn=<MeanBackward0>),\n",
              "  tensor(0.0145, grad_fn=<MeanBackward0>),\n",
              "  tensor(0.0213, grad_fn=<MeanBackward0>),\n",
              "  tensor(0.0171, grad_fn=<MeanBackward0>),\n",
              "  tensor(0.0057, grad_fn=<MeanBackward0>),\n",
              "  tensor(0.0128, grad_fn=<MeanBackward0>),\n",
              "  tensor(0.0145, grad_fn=<MeanBackward0>),\n",
              "  tensor(0.0045, grad_fn=<MeanBackward0>),\n",
              "  tensor(0.0160, grad_fn=<MeanBackward0>),\n",
              "  tensor(0.0230, grad_fn=<MeanBackward0>),\n",
              "  tensor(0.0177, grad_fn=<MeanBackward0>),\n",
              "  tensor(0.0043, grad_fn=<MeanBackward0>),\n",
              "  tensor(0.0157, grad_fn=<MeanBackward0>),\n",
              "  tensor(0.0196, grad_fn=<MeanBackward0>),\n",
              "  tensor(0.0116, grad_fn=<MeanBackward0>),\n",
              "  tensor(0.0084, grad_fn=<MeanBackward0>),\n",
              "  tensor(0.0171, grad_fn=<MeanBackward0>),\n",
              "  tensor(0.0146, grad_fn=<MeanBackward0>),\n",
              "  tensor(0.0064, grad_fn=<MeanBackward0>),\n",
              "  tensor(0.0130, grad_fn=<MeanBackward0>),\n",
              "  tensor(0.0139, grad_fn=<MeanBackward0>),\n",
              "  tensor(0.0058, grad_fn=<MeanBackward0>),\n",
              "  tensor(0.0094, grad_fn=<MeanBackward0>),\n",
              "  tensor(0.0109, grad_fn=<MeanBackward0>),\n",
              "  tensor(0.0041, grad_fn=<MeanBackward0>),\n",
              "  tensor(0.0101, grad_fn=<MeanBackward0>),\n",
              "  tensor(0.0084, grad_fn=<MeanBackward0>),\n",
              "  tensor(0.0046, grad_fn=<MeanBackward0>),\n",
              "  tensor(0.0048, grad_fn=<MeanBackward0>),\n",
              "  tensor(0.0065, grad_fn=<MeanBackward0>),\n",
              "  tensor(0.0052, grad_fn=<MeanBackward0>),\n",
              "  tensor(0.0075, grad_fn=<MeanBackward0>),\n",
              "  tensor(0.0074, grad_fn=<MeanBackward0>),\n",
              "  tensor(0.0042, grad_fn=<MeanBackward0>),\n",
              "  tensor(0.0031, grad_fn=<MeanBackward0>),\n",
              "  tensor(0.0094, grad_fn=<MeanBackward0>),\n",
              "  tensor(0.0091, grad_fn=<MeanBackward0>),\n",
              "  tensor(0.0030, grad_fn=<MeanBackward0>),\n",
              "  tensor(0.0058, grad_fn=<MeanBackward0>),\n",
              "  tensor(0.0029, grad_fn=<MeanBackward0>),\n",
              "  tensor(0.0025, grad_fn=<MeanBackward0>),\n",
              "  tensor(0.0058, grad_fn=<MeanBackward0>),\n",
              "  tensor(0.0018, grad_fn=<MeanBackward0>),\n",
              "  tensor(0.0096, grad_fn=<MeanBackward0>),\n",
              "  tensor(0.0082, grad_fn=<MeanBackward0>),\n",
              "  tensor(0.0047, grad_fn=<MeanBackward0>),\n",
              "  tensor(0.0047, grad_fn=<MeanBackward0>),\n",
              "  tensor(0.0068, grad_fn=<MeanBackward0>),\n",
              "  tensor(0.0057, grad_fn=<MeanBackward0>),\n",
              "  tensor(0.0069, grad_fn=<MeanBackward0>),\n",
              "  tensor(0.0067, grad_fn=<MeanBackward0>),\n",
              "  tensor(0.0050, grad_fn=<MeanBackward0>),\n",
              "  tensor(0.0041, grad_fn=<MeanBackward0>),\n",
              "  tensor(0.0079, grad_fn=<MeanBackward0>),\n",
              "  tensor(0.0071, grad_fn=<MeanBackward0>),\n",
              "  tensor(0.0052, grad_fn=<MeanBackward0>),\n",
              "  tensor(0.0047, grad_fn=<MeanBackward0>),\n",
              "  tensor(0.0058, grad_fn=<MeanBackward0>),\n",
              "  tensor(0.0037, grad_fn=<MeanBackward0>),\n",
              "  tensor(0.0078, grad_fn=<MeanBackward0>),\n",
              "  tensor(0.0066, grad_fn=<MeanBackward0>),\n",
              "  tensor(0.0060, grad_fn=<MeanBackward0>)],\n",
              " [tensor(0.4811),\n",
              "  tensor(0.4555),\n",
              "  tensor(0.4190),\n",
              "  tensor(0.3726),\n",
              "  tensor(0.3175),\n",
              "  tensor(0.2544),\n",
              "  tensor(0.1851),\n",
              "  tensor(0.1153),\n",
              "  tensor(0.0520),\n",
              "  tensor(0.0110),\n",
              "  tensor(0.0265),\n",
              "  tensor(0.0401),\n",
              "  tensor(0.0389),\n",
              "  tensor(0.0243),\n",
              "  tensor(0.0101),\n",
              "  tensor(0.0396),\n",
              "  tensor(0.0834),\n",
              "  tensor(0.1253),\n",
              "  tensor(0.1598),\n",
              "  tensor(0.1834),\n",
              "  tensor(0.1943),\n",
              "  tensor(0.1927),\n",
              "  tensor(0.1793),\n",
              "  tensor(0.1559),\n",
              "  tensor(0.1255),\n",
              "  tensor(0.0919),\n",
              "  tensor(0.0593),\n",
              "  tensor(0.0330),\n",
              "  tensor(0.0179),\n",
              "  tensor(0.0161),\n",
              "  tensor(0.0271),\n",
              "  tensor(0.0455),\n",
              "  tensor(0.0645),\n",
              "  tensor(0.0785),\n",
              "  tensor(0.0836),\n",
              "  tensor(0.0778),\n",
              "  tensor(0.0618),\n",
              "  tensor(0.0381),\n",
              "  tensor(0.0131),\n",
              "  tensor(0.0023),\n",
              "  tensor(0.0020),\n",
              "  tensor(0.0120),\n",
              "  tensor(0.0245),\n",
              "  tensor(0.0223),\n",
              "  tensor(0.0068),\n",
              "  tensor(0.0206),\n",
              "  tensor(0.0318),\n",
              "  tensor(0.0284),\n",
              "  tensor(0.0118),\n",
              "  tensor(0.0068),\n",
              "  tensor(0.0101),\n",
              "  tensor(0.0012),\n",
              "  tensor(0.0233),\n",
              "  tensor(0.0352),\n",
              "  tensor(0.0325),\n",
              "  tensor(0.0166),\n",
              "  tensor(0.0013),\n",
              "  tensor(0.0018),\n",
              "  tensor(0.0103),\n",
              "  tensor(0.0235),\n",
              "  tensor(0.0240),\n",
              "  tensor(0.0110),\n",
              "  tensor(0.0038),\n",
              "  tensor(0.0037),\n",
              "  tensor(0.0099),\n",
              "  tensor(0.0086),\n",
              "  tensor(0.0060),\n",
              "  tensor(0.0056),\n",
              "  tensor(0.0082),\n",
              "  tensor(0.0071),\n",
              "  tensor(0.0074),\n",
              "  tensor(0.0069),\n",
              "  tensor(0.0070),\n",
              "  tensor(0.0061),\n",
              "  tensor(0.0083),\n",
              "  tensor(0.0119),\n",
              "  tensor(0.0018),\n",
              "  tensor(0.0020),\n",
              "  tensor(0.0107),\n",
              "  tensor(0.0050),\n",
              "  tensor(0.0093),\n",
              "  tensor(0.0087),\n",
              "  tensor(0.0053),\n",
              "  tensor(0.0044),\n",
              "  tensor(0.0098),\n",
              "  tensor(0.0092),\n",
              "  tensor(0.0049),\n",
              "  tensor(0.0040),\n",
              "  tensor(0.0102),\n",
              "  tensor(0.0095),\n",
              "  tensor(0.0041),\n",
              "  tensor(0.0028),\n",
              "  tensor(0.0118),\n",
              "  tensor(0.0114),\n",
              "  tensor(0.0008),\n",
              "  tensor(0.0016),\n",
              "  tensor(0.0148),\n",
              "  tensor(0.0132),\n",
              "  tensor(0.0018),\n",
              "  tensor(0.0017)])"
            ]
          },
          "metadata": {},
          "execution_count": 26
        }
      ]
    },
    {
      "cell_type": "code",
      "source": [
        "plt.plot(epoch_count,np.array(torch.tensor(training_loss).numpy()),label='Training_loss')\n",
        "plt.plot(epoch_count,np.array(torch.tensor(testing_loss).numpy()),label='Test_loss')\n",
        "plt.title(\"Training and testing loss\")\n",
        "plt.xlabel(\"Epochs\")\n",
        "plt.ylabel(\"Loss\")\n",
        "plt.legend()"
      ],
      "metadata": {
        "colab": {
          "base_uri": "https://localhost:8080/",
          "height": 312
        },
        "id": "PuYLQh5Ptl3l",
        "outputId": "6b0b4ddb-2644-40b7-d84f-9cf291ea9666"
      },
      "execution_count": null,
      "outputs": [
        {
          "output_type": "execute_result",
          "data": {
            "text/plain": [
              "<matplotlib.legend.Legend at 0x7f334cf04e50>"
            ]
          },
          "metadata": {},
          "execution_count": 29
        },
        {
          "output_type": "display_data",
          "data": {
            "text/plain": [
              "<Figure size 432x288 with 1 Axes>"
            ],
            "image/png": "[encoded data removed]"
          },
          "metadata": {
            "needs_background": "light"
          }
        }
      ]
    },
    {
      "cell_type": "markdown",
      "source": [
        "###Saving and loading a model\n",
        "There are 3 main methods involved in saving and loading models in PyTorch\n",
        "\n",
        "1. `torch.save()` - allows to save the model in python pickle format\n",
        "2. `torch.load()` - allows to load a saved PyTorch object\n",
        "3. `torch.nn.Module.load_state_dict()` - loads a model's saved dictionary"
      ],
      "metadata": {
        "id": "lhZQ-IMLuJmp"
      }
    },
    {
      "cell_type": "code",
      "source": [
        "#saving a model\n",
        "from pathlib import Path as path\n",
        "\n",
        "#creating a directory\n",
        "MODEL_PATH=path('models')\n",
        "MODEL_PATH.mkdir(parents=True, exist_ok=True)\n",
        "\n",
        "#create model save path\n",
        "MODEL_NAME='model_0_linear_regression.pth'\n",
        "MODEL_SAVE_PATH=MODEL_PATH/MODEL_NAME\n",
        "\n",
        "#saving model state dict\n",
        "print(f\"saving model to : {MODEL_SAVE_PATH}\")\n",
        "torch.save(obj=model_0.state_dict(),\n",
        "           f=MODEL_SAVE_PATH)"
      ],
      "metadata": {
        "colab": {
          "base_uri": "https://localhost:8080/"
        },
        "id": "xXmzrzaYvqYp",
        "outputId": "b0bf1c6c-5591-4f5f-f878-38393645e720"
      },
      "execution_count": null,
      "outputs": [
        {
          "output_type": "stream",
          "name": "stdout",
          "text": [
            "saving model to : models/model_0_linear_regression.pth\n"
          ]
        }
      ]
    },
    {
      "cell_type": "markdown",
      "source": [
        "Since we saved the `state_dict` we will create a new instance of our model class and load the saved `state_dict`"
      ],
      "metadata": {
        "id": "Wh302l7PyWzB"
      }
    },
    {
      "cell_type": "code",
      "source": [
        "#creating a instance of our model class\n",
        "loaded_model_0=LinearRegressionModel()"
      ],
      "metadata": {
        "id": "xPset6LIw41C"
      },
      "execution_count": null,
      "outputs": []
    },
    {
      "cell_type": "code",
      "source": [
        "#loading the state_dicts\n",
        "loaded_model_0.load_state_dict(torch.load(f=MODEL_SAVE_PATH))"
      ],
      "metadata": {
        "colab": {
          "base_uri": "https://localhost:8080/"
        },
        "id": "oxHQemMXynaR",
        "outputId": "aef10923-0ef0-4116-f295-7267a01745c8"
      },
      "execution_count": null,
      "outputs": [
        {
          "output_type": "execute_result",
          "data": {
            "text/plain": [
              "<All keys matched successfully>"
            ]
          },
          "metadata": {},
          "execution_count": 34
        }
      ]
    },
    {
      "cell_type": "code",
      "source": [
        "loaded_model_0.eval()\n",
        "with torch.inference_mode():\n",
        "  y_preds=loaded_model_0(X_test)\n",
        "\n",
        "y_preds"
      ],
      "metadata": {
        "colab": {
          "base_uri": "https://localhost:8080/"
        },
        "id": "1IJi_5sUyzuW",
        "outputId": "8c425df4-cebf-42ac-9ce0-5323b59b8569"
      },
      "execution_count": null,
      "outputs": [
        {
          "output_type": "execute_result",
          "data": {
            "text/plain": [
              "tensor([[0.8575],\n",
              "        [0.8717],\n",
              "        [0.8858],\n",
              "        [0.9000],\n",
              "        [0.9142],\n",
              "        [0.9283],\n",
              "        [0.9425],\n",
              "        [0.9567],\n",
              "        [0.9708],\n",
              "        [0.9850]])"
            ]
          },
          "metadata": {},
          "execution_count": 35
        }
      ]
    },
    {
      "cell_type": "markdown",
      "source": [
        "##Putting all the steps together"
      ],
      "metadata": {
        "id": "ieLq4RF1y_kX"
      }
    },
    {
      "cell_type": "code",
      "source": [
        "#creating data\n",
        "weight=0.84\n",
        "bias=0.29\n",
        "start=0\n",
        "end=2\n",
        "step=0.015\n",
        "X=torch.arange(start,end,step).unsqueeze(dim=1)\n",
        "Y=weight*X+bias"
      ],
      "metadata": {
        "id": "udVUR2gfzOuA"
      },
      "execution_count": null,
      "outputs": []
    },
    {
      "cell_type": "code",
      "source": [
        "len(X),len(Y)"
      ],
      "metadata": {
        "colab": {
          "base_uri": "https://localhost:8080/"
        },
        "id": "EETjiOCS0Cnc",
        "outputId": "6819f9fa-1664-42b7-b928-7c549db35fe5"
      },
      "execution_count": null,
      "outputs": [
        {
          "output_type": "execute_result",
          "data": {
            "text/plain": [
              "(134, 134)"
            ]
          },
          "metadata": {},
          "execution_count": 37
        }
      ]
    },
    {
      "cell_type": "code",
      "source": [
        "train_test_split=int(0.9*(len(X)))\n",
        "X_train,Y_train=X[:train_test_split],Y[:train_test_split]\n",
        "X_test,Y_test=X[train_test_split:],Y[train_test_split:]\n",
        "len(X_train),len(X_test)"
      ],
      "metadata": {
        "colab": {
          "base_uri": "https://localhost:8080/"
        },
        "id": "Q87y_zGOz9sR",
        "outputId": "854fef15-0faa-4e23-ba76-05626150b69f"
      },
      "execution_count": null,
      "outputs": [
        {
          "output_type": "execute_result",
          "data": {
            "text/plain": [
              "(120, 14)"
            ]
          },
          "metadata": {},
          "execution_count": 38
        }
      ]
    },
    {
      "cell_type": "code",
      "source": [
        "plot_predictions(train_data=X_train,train_labels=Y_train,\n",
        "                 test_data=X_test,test_labels=Y_test,predictions=None)"
      ],
      "metadata": {
        "colab": {
          "base_uri": "https://localhost:8080/",
          "height": 428
        },
        "id": "z5ysmyPT0Y8y",
        "outputId": "c9131dd7-c67c-42df-cf17-016e462403e6"
      },
      "execution_count": null,
      "outputs": [
        {
          "output_type": "display_data",
          "data": {
            "text/plain": [
              "<Figure size 720x504 with 1 Axes>"
            ],
            "image/png": "[encoded data removed]"
          },
          "metadata": {
            "needs_background": "light"
          }
        }
      ]
    },
    {
      "cell_type": "code",
      "source": [
        "class LinearregressionModel(nn.Module):\n",
        "  def __init__(self):\n",
        "    super().__init__()\n",
        "    '''self.weight=nn.Parameter(torch.randn(1,requires_grad=True,\n",
        "                                        dtype=torch.float))\n",
        "    self.bias=nn.Parameter(torch.randn(1,requires_grad=True,\n",
        "                                      dtype=torch.float))'''\n",
        "    self.linear_layer=nn.Linear(in_features=1,out_features=1,bias=True)\n",
        "  def forward(self,x:torch.Tensor)->torch.Tensor:\n",
        "    return self.linear_layer(x)\n",
        ""
      ],
      "metadata": {
        "id": "jqd6y8S10sAx"
      },
      "execution_count": null,
      "outputs": []
    },
    {
      "cell_type": "code",
      "source": [
        "model_recap=LinearregressionModel()\n",
        "\n",
        "model_recap.eval()\n",
        "with torch.inference_mode():\n",
        "  y_preds=model_recap(X_test)\n",
        "\n",
        "plot_predictions(train_data=X_train,train_labels=Y_train,\n",
        "                 test_data=X_test,test_labels=Y_test,predictions=y_preds)"
      ],
      "metadata": {
        "colab": {
          "base_uri": "https://localhost:8080/",
          "height": 428
        },
        "id": "2TkJHfs32SET",
        "outputId": "5a102b4f-92ed-4319-9112-a19732b9347a"
      },
      "execution_count": null,
      "outputs": [
        {
          "output_type": "display_data",
          "data": {
            "text/plain": [
              "<Figure size 720x504 with 1 Axes>"
            ],
            "image/png": "[encoded data removed]"
          },
          "metadata": {
            "needs_background": "light"
          }
        }
      ]
    },
    {
      "cell_type": "code",
      "source": [
        "loss_fn=nn.L1Loss()\n",
        "\n",
        "optimizer=torch.optim.SGD(params=model_recap.parameters(),\n",
        "                          lr=0.01,\n",
        "                          momentum=0.9)"
      ],
      "metadata": {
        "id": "5f6g8IS_3RnN"
      },
      "execution_count": null,
      "outputs": []
    },
    {
      "cell_type": "code",
      "source": [
        "epochs=500\n",
        "\n",
        "epoch_count=[]\n",
        "training_loss=[]\n",
        "testing_loss=[]\n",
        "\n",
        "for epoch in range(epochs):\n",
        "  epoch_count.append(epoch)\n",
        "  model_recap.train()\n",
        "  y_preds=model_recap(X_train)\n",
        "  loss=loss_fn(y_preds,Y_train)\n",
        "  training_loss.append(loss)\n",
        "  optimizer.zero_grad()\n",
        "\n",
        "  loss.backward()\n",
        "  optimizer.step()\n",
        "\n",
        "  model_recap.eval()\n",
        "  with torch.inference_mode():\n",
        "    y_preds=model_recap(X_test)\n",
        "    test_loss=loss_fn(y_preds,Y_test)\n",
        "    testing_loss.append(test_loss)\n",
        "\n",
        "  if epoch%10==0:\n",
        "    print(f\"Epoch  {epoch} | Training loss {loss} | Test loss {test_loss}\")\n",
        "    print(model_recap.state_dict())"
      ],
      "metadata": {
        "colab": {
          "base_uri": "https://localhost:8080/"
        },
        "id": "IpyxnF3m2m38",
        "outputId": "0de2291f-537e-4f94-f558-36efc057f9dc",
        "collapsed": true
      },
      "execution_count": null,
      "outputs": [
        {
          "output_type": "stream",
          "name": "stdout",
          "text": [
            "Epoch  0 | Training loss 0.2448824942111969 | Test loss 0.3196443021297455\n",
            "OrderedDict([('linear_layer.weight', tensor([[0.7477]])), ('linear_layer.bias', tensor([0.1454]))])\n",
            "Epoch  10 | Training loss 0.13345639407634735 | Test loss 0.16868707537651062\n",
            "OrderedDict([('linear_layer.weight', tensor([[0.9045]])), ('linear_layer.bias', tensor([0.3362]))])\n",
            "Epoch  20 | Training loss 0.01833391562104225 | Test loss 0.06572836637496948\n",
            "OrderedDict([('linear_layer.weight', tensor([[0.8573]])), ('linear_layer.bias', tensor([0.3229]))])\n",
            "Epoch  30 | Training loss 0.023734916001558304 | Test loss 0.010213971138000488\n",
            "OrderedDict([('linear_layer.weight', tensor([[0.8330]])), ('linear_layer.bias', tensor([0.3135]))])\n",
            "Epoch  40 | Training loss 0.013387945480644703 | Test loss 0.002067668130621314\n",
            "OrderedDict([('linear_layer.weight', tensor([[0.8426]])), ('linear_layer.bias', tensor([0.2830]))])\n",
            "Epoch  50 | Training loss 0.01484117191284895 | Test loss 0.023587610572576523\n",
            "OrderedDict([('linear_layer.weight', tensor([[0.8283]])), ('linear_layer.bias', tensor([0.2886]))])\n",
            "Epoch  60 | Training loss 0.011663461104035378 | Test loss 0.015457400120794773\n",
            "OrderedDict([('linear_layer.weight', tensor([[0.8450]])), ('linear_layer.bias', tensor([0.2960]))])\n",
            "Epoch  70 | Training loss 0.009689581580460072 | Test loss 0.010108181275427341\n",
            "OrderedDict([('linear_layer.weight', tensor([[0.8387]])), ('linear_layer.bias', tensor([0.2824]))])\n",
            "Epoch  80 | Training loss 0.009638368152081966 | Test loss 0.017103970050811768\n",
            "OrderedDict([('linear_layer.weight', tensor([[0.8484]])), ('linear_layer.bias', tensor([0.2911]))])\n",
            "Epoch  90 | Training loss 0.010395620949566364 | Test loss 0.009533933363854885\n",
            "OrderedDict([('linear_layer.weight', tensor([[0.8399]])), ('linear_layer.bias', tensor([0.2807]))])\n",
            "Epoch  100 | Training loss 0.009392058476805687 | Test loss 0.017304029315710068\n",
            "OrderedDict([('linear_layer.weight', tensor([[0.8489]])), ('linear_layer.bias', tensor([0.2905]))])\n",
            "Epoch  110 | Training loss 0.01048161182552576 | Test loss 0.00946451909840107\n",
            "OrderedDict([('linear_layer.weight', tensor([[0.8400]])), ('linear_layer.bias', tensor([0.2805]))])\n",
            "Epoch  120 | Training loss 0.009362096898257732 | Test loss 0.017328159883618355\n",
            "OrderedDict([('linear_layer.weight', tensor([[0.8489]])), ('linear_layer.bias', tensor([0.2904]))])\n",
            "Epoch  130 | Training loss 0.010492072440683842 | Test loss 0.009456089697778225\n",
            "OrderedDict([('linear_layer.weight', tensor([[0.8400]])), ('linear_layer.bias', tensor([0.2805]))])\n",
            "Epoch  140 | Training loss 0.009358477778732777 | Test loss 0.017331192269921303\n",
            "OrderedDict([('linear_layer.weight', tensor([[0.8489]])), ('linear_layer.bias', tensor([0.2904]))])\n",
            "Epoch  150 | Training loss 0.01049325056374073 | Test loss 0.009454889222979546\n",
            "OrderedDict([('linear_layer.weight', tensor([[0.8400]])), ('linear_layer.bias', tensor([0.2805]))])\n",
            "Epoch  160 | Training loss 0.00935803446918726 | Test loss 0.017331480979919434\n",
            "OrderedDict([('linear_layer.weight', tensor([[0.8489]])), ('linear_layer.bias', tensor([0.2904]))])\n",
            "Epoch  170 | Training loss 0.010493550449609756 | Test loss 0.009454957209527493\n",
            "OrderedDict([('linear_layer.weight', tensor([[0.8400]])), ('linear_layer.bias', tensor([0.2805]))])\n",
            "Epoch  180 | Training loss 0.009357833303511143 | Test loss 0.017331361770629883\n",
            "OrderedDict([('linear_layer.weight', tensor([[0.8489]])), ('linear_layer.bias', tensor([0.2904]))])\n",
            "Epoch  190 | Training loss 0.01049360353499651 | Test loss 0.009455016814172268\n",
            "OrderedDict([('linear_layer.weight', tensor([[0.8400]])), ('linear_layer.bias', tensor([0.2805]))])\n",
            "Epoch  200 | Training loss 0.009357833303511143 | Test loss 0.017331361770629883\n",
            "OrderedDict([('linear_layer.weight', tensor([[0.8489]])), ('linear_layer.bias', tensor([0.2904]))])\n",
            "Epoch  210 | Training loss 0.01049360353499651 | Test loss 0.009455016814172268\n",
            "OrderedDict([('linear_layer.weight', tensor([[0.8400]])), ('linear_layer.bias', tensor([0.2805]))])\n",
            "Epoch  220 | Training loss 0.009357833303511143 | Test loss 0.017331361770629883\n",
            "OrderedDict([('linear_layer.weight', tensor([[0.8489]])), ('linear_layer.bias', tensor([0.2904]))])\n",
            "Epoch  230 | Training loss 0.01049360353499651 | Test loss 0.009455016814172268\n",
            "OrderedDict([('linear_layer.weight', tensor([[0.8400]])), ('linear_layer.bias', tensor([0.2805]))])\n",
            "Epoch  240 | Training loss 0.009357833303511143 | Test loss 0.017331361770629883\n",
            "OrderedDict([('linear_layer.weight', tensor([[0.8489]])), ('linear_layer.bias', tensor([0.2904]))])\n",
            "Epoch  250 | Training loss 0.01049360353499651 | Test loss 0.009455016814172268\n",
            "OrderedDict([('linear_layer.weight', tensor([[0.8400]])), ('linear_layer.bias', tensor([0.2805]))])\n",
            "Epoch  260 | Training loss 0.009357833303511143 | Test loss 0.017331361770629883\n",
            "OrderedDict([('linear_layer.weight', tensor([[0.8489]])), ('linear_layer.bias', tensor([0.2904]))])\n",
            "Epoch  270 | Training loss 0.01049360353499651 | Test loss 0.009455016814172268\n",
            "OrderedDict([('linear_layer.weight', tensor([[0.8400]])), ('linear_layer.bias', tensor([0.2805]))])\n",
            "Epoch  280 | Training loss 0.009357833303511143 | Test loss 0.017331361770629883\n",
            "OrderedDict([('linear_layer.weight', tensor([[0.8489]])), ('linear_layer.bias', tensor([0.2904]))])\n",
            "Epoch  290 | Training loss 0.01049360353499651 | Test loss 0.009455016814172268\n",
            "OrderedDict([('linear_layer.weight', tensor([[0.8400]])), ('linear_layer.bias', tensor([0.2805]))])\n",
            "Epoch  300 | Training loss 0.009357833303511143 | Test loss 0.017331361770629883\n",
            "OrderedDict([('linear_layer.weight', tensor([[0.8489]])), ('linear_layer.bias', tensor([0.2904]))])\n",
            "Epoch  310 | Training loss 0.01049360353499651 | Test loss 0.009455016814172268\n",
            "OrderedDict([('linear_layer.weight', tensor([[0.8400]])), ('linear_layer.bias', tensor([0.2805]))])\n",
            "Epoch  320 | Training loss 0.009357833303511143 | Test loss 0.017331361770629883\n",
            "OrderedDict([('linear_layer.weight', tensor([[0.8489]])), ('linear_layer.bias', tensor([0.2904]))])\n",
            "Epoch  330 | Training loss 0.01049360353499651 | Test loss 0.009455016814172268\n",
            "OrderedDict([('linear_layer.weight', tensor([[0.8400]])), ('linear_layer.bias', tensor([0.2805]))])\n",
            "Epoch  340 | Training loss 0.009357833303511143 | Test loss 0.017331361770629883\n",
            "OrderedDict([('linear_layer.weight', tensor([[0.8489]])), ('linear_layer.bias', tensor([0.2904]))])\n",
            "Epoch  350 | Training loss 0.01049360353499651 | Test loss 0.009455016814172268\n",
            "OrderedDict([('linear_layer.weight', tensor([[0.8400]])), ('linear_layer.bias', tensor([0.2805]))])\n",
            "Epoch  360 | Training loss 0.009357833303511143 | Test loss 0.017331361770629883\n",
            "OrderedDict([('linear_layer.weight', tensor([[0.8489]])), ('linear_layer.bias', tensor([0.2904]))])\n",
            "Epoch  370 | Training loss 0.01049360353499651 | Test loss 0.009455016814172268\n",
            "OrderedDict([('linear_layer.weight', tensor([[0.8400]])), ('linear_layer.bias', tensor([0.2805]))])\n",
            "Epoch  380 | Training loss 0.009357833303511143 | Test loss 0.017331361770629883\n",
            "OrderedDict([('linear_layer.weight', tensor([[0.8489]])), ('linear_layer.bias', tensor([0.2904]))])\n",
            "Epoch  390 | Training loss 0.01049360353499651 | Test loss 0.009455016814172268\n",
            "OrderedDict([('linear_layer.weight', tensor([[0.8400]])), ('linear_layer.bias', tensor([0.2805]))])\n",
            "Epoch  400 | Training loss 0.009357833303511143 | Test loss 0.017331361770629883\n",
            "OrderedDict([('linear_layer.weight', tensor([[0.8489]])), ('linear_layer.bias', tensor([0.2904]))])\n",
            "Epoch  410 | Training loss 0.01049360353499651 | Test loss 0.009455016814172268\n",
            "OrderedDict([('linear_layer.weight', tensor([[0.8400]])), ('linear_layer.bias', tensor([0.2805]))])\n",
            "Epoch  420 | Training loss 0.009357833303511143 | Test loss 0.017331361770629883\n",
            "OrderedDict([('linear_layer.weight', tensor([[0.8489]])), ('linear_layer.bias', tensor([0.2904]))])\n",
            "Epoch  430 | Training loss 0.01049360353499651 | Test loss 0.009455016814172268\n",
            "OrderedDict([('linear_layer.weight', tensor([[0.8400]])), ('linear_layer.bias', tensor([0.2805]))])\n",
            "Epoch  440 | Training loss 0.009357833303511143 | Test loss 0.017331361770629883\n",
            "OrderedDict([('linear_layer.weight', tensor([[0.8489]])), ('linear_layer.bias', tensor([0.2904]))])\n",
            "Epoch  450 | Training loss 0.01049360353499651 | Test loss 0.009455016814172268\n",
            "OrderedDict([('linear_layer.weight', tensor([[0.8400]])), ('linear_layer.bias', tensor([0.2805]))])\n",
            "Epoch  460 | Training loss 0.009357833303511143 | Test loss 0.017331361770629883\n",
            "OrderedDict([('linear_layer.weight', tensor([[0.8489]])), ('linear_layer.bias', tensor([0.2904]))])\n",
            "Epoch  470 | Training loss 0.01049360353499651 | Test loss 0.009455016814172268\n",
            "OrderedDict([('linear_layer.weight', tensor([[0.8400]])), ('linear_layer.bias', tensor([0.2805]))])\n",
            "Epoch  480 | Training loss 0.009357833303511143 | Test loss 0.017331361770629883\n",
            "OrderedDict([('linear_layer.weight', tensor([[0.8489]])), ('linear_layer.bias', tensor([0.2904]))])\n",
            "Epoch  490 | Training loss 0.01049360353499651 | Test loss 0.009455016814172268\n",
            "OrderedDict([('linear_layer.weight', tensor([[0.8400]])), ('linear_layer.bias', tensor([0.2805]))])\n"
          ]
        }
      ]
    },
    {
      "cell_type": "code",
      "source": [
        "model_recap.eval()\n",
        "with torch.inference_mode():\n",
        "  y_preds=model_recap(X_test)\n",
        "\n",
        "plot_predictions(train_data=X_train,train_labels=Y_train,\n",
        "                 test_data=X_test,test_labels=Y_test,predictions=y_preds)"
      ],
      "metadata": {
        "colab": {
          "base_uri": "https://localhost:8080/",
          "height": 428
        },
        "id": "LY2PyzIO432x",
        "outputId": "c8f71dab-b8e5-4625-dc22-91688e963305"
      },
      "execution_count": null,
      "outputs": [
        {
          "output_type": "display_data",
          "data": {
            "text/plain": [
              "<Figure size 720x504 with 1 Axes>"
            ],
            "image/png": "[encoded data removed]"
          },
          "metadata": {
            "needs_background": "light"
          }
        }
      ]
    },
    {
      "cell_type": "code",
      "source": [
        "plt.plot(epoch_count,np.array(torch.tensor(training_loss).numpy()),label='Training_loss')\n",
        "plt.plot(epoch_count,np.array(torch.tensor(testing_loss).numpy()),label='Test_loss')\n",
        "plt.title(\"Training and testing loss\")\n",
        "plt.xlabel(\"Epochs\")\n",
        "plt.ylabel(\"Loss\")\n",
        "plt.legend()"
      ],
      "metadata": {
        "colab": {
          "base_uri": "https://localhost:8080/",
          "height": 312
        },
        "id": "V8BsZ2j15Lon",
        "outputId": "8e11475f-a5ea-43b1-d17c-e81710c38b4b"
      },
      "execution_count": null,
      "outputs": [
        {
          "output_type": "execute_result",
          "data": {
            "text/plain": [
              "<matplotlib.legend.Legend at 0x7f334346b7c0>"
            ]
          },
          "metadata": {},
          "execution_count": 58
        },
        {
          "output_type": "display_data",
          "data": {
            "text/plain": [
              "<Figure size 432x288 with 1 Axes>"
            ],
            "image/png": "[encoded data removed]"
          },
          "metadata": {
            "needs_background": "light"
          }
        }
      ]
    },
    {
      "cell_type": "code",
      "source": [],
      "metadata": {
        "id": "62_AnHGh87RR"
      },
      "execution_count": null,
      "outputs": []
    }
  ]
}