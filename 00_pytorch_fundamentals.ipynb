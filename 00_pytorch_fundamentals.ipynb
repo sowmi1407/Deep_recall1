{
  "nbformat": 4,
  "nbformat_minor": 0,
  "metadata": {
    "colab": {
      "provenance": [],
      "include_colab_link": true
    },
    "kernelspec": {
      "name": "python3",
      "display_name": "Python 3"
    },
    "language_info": {
      "name": "python"
    },
    "gpuClass": "standard",
    "accelerator": "GPU"
  },
  "cells": [
    {
      "cell_type": "markdown",
      "metadata": {
        "id": "view-in-github",
        "colab_type": "text"
      },
      "source": [
        "<a href=\"https://colab.research.google.com/github/sowmi1407/Deep_recall1/blob/main/00_pytorch_fundamentals.ipynb\" target=\"_parent\"><img src=\"https://colab.research.google.com/assets/colab-badge.svg\" alt=\"Open In Colab\"/></a>"
      ]
    },
    {
      "cell_type": "markdown",
      "source": [
        "#PyTorch Fundamentals"
      ],
      "metadata": {
        "id": "Lh6BrgJUm2C2"
      }
    },
    {
      "cell_type": "code",
      "source": [
        "import torch\n",
        "import pandas as pd\n",
        "import numpy as np\n",
        "import matplotlib.pyplot as plt\n",
        "print(torch.__version__)"
      ],
      "metadata": {
        "colab": {
          "base_uri": "https://localhost:8080/"
        },
        "id": "igW9J8VYnRsp",
        "outputId": "775e590c-8c18-4fcd-8ca7-ec84d50a88eb"
      },
      "execution_count": null,
      "outputs": [
        {
          "output_type": "stream",
          "name": "stdout",
          "text": [
            "1.13.0+cu116\n"
          ]
        }
      ]
    },
    {
      "cell_type": "markdown",
      "source": [
        "##Introduction to tensors"
      ],
      "metadata": {
        "id": "I2PIzh9VnoZP"
      }
    },
    {
      "cell_type": "markdown",
      "source": [
        "###Creating tensors"
      ],
      "metadata": {
        "id": "oOhRjkLPn6XO"
      }
    },
    {
      "cell_type": "code",
      "source": [
        "#scalars\n",
        "scalar=torch.tensor(7)\n",
        "scalar"
      ],
      "metadata": {
        "colab": {
          "base_uri": "https://localhost:8080/"
        },
        "id": "IAzV7NkWn-SE",
        "outputId": "b2337721-76b7-4aef-c606-f37bf6a75eea"
      },
      "execution_count": null,
      "outputs": [
        {
          "output_type": "execute_result",
          "data": {
            "text/plain": [
              "tensor(7)"
            ]
          },
          "metadata": {},
          "execution_count": 2
        }
      ]
    },
    {
      "cell_type": "code",
      "source": [
        "scalar.ndim"
      ],
      "metadata": {
        "colab": {
          "base_uri": "https://localhost:8080/"
        },
        "id": "cm-Z9Y1-oBRG",
        "outputId": "e36b48a5-cbb9-4461-e568-90a824381604"
      },
      "execution_count": null,
      "outputs": [
        {
          "output_type": "execute_result",
          "data": {
            "text/plain": [
              "0"
            ]
          },
          "metadata": {},
          "execution_count": 3
        }
      ]
    },
    {
      "cell_type": "code",
      "source": [
        "#vector\n",
        "vector=torch.tensor([7,7])\n",
        "vector"
      ],
      "metadata": {
        "colab": {
          "base_uri": "https://localhost:8080/"
        },
        "id": "Z2fuYVAqoISv",
        "outputId": "9fd423d0-24a0-4798-ca90-182d44da561a"
      },
      "execution_count": null,
      "outputs": [
        {
          "output_type": "execute_result",
          "data": {
            "text/plain": [
              "tensor([7, 7])"
            ]
          },
          "metadata": {},
          "execution_count": 4
        }
      ]
    },
    {
      "cell_type": "code",
      "source": [
        "vector.ndim"
      ],
      "metadata": {
        "colab": {
          "base_uri": "https://localhost:8080/"
        },
        "id": "3V98-9IzoeIT",
        "outputId": "f8315e99-0de0-488b-edfa-1cdae43b19f2"
      },
      "execution_count": null,
      "outputs": [
        {
          "output_type": "execute_result",
          "data": {
            "text/plain": [
              "1"
            ]
          },
          "metadata": {},
          "execution_count": 5
        }
      ]
    },
    {
      "cell_type": "code",
      "source": [
        "vector.shape"
      ],
      "metadata": {
        "colab": {
          "base_uri": "https://localhost:8080/"
        },
        "id": "jjv_qzBSogSD",
        "outputId": "a16b0d39-2d89-4d8e-c8a0-8b11f026d012"
      },
      "execution_count": null,
      "outputs": [
        {
          "output_type": "execute_result",
          "data": {
            "text/plain": [
              "torch.Size([2])"
            ]
          },
          "metadata": {},
          "execution_count": 6
        }
      ]
    },
    {
      "cell_type": "code",
      "source": [
        "#matrix\n",
        "matrix=torch.tensor([[1,2],\n",
        "                    [5,6]])\n",
        "matrix"
      ],
      "metadata": {
        "colab": {
          "base_uri": "https://localhost:8080/"
        },
        "id": "yMp1CIurohJ1",
        "outputId": "64c24c38-deae-4404-ed28-466ac71ad9e1"
      },
      "execution_count": null,
      "outputs": [
        {
          "output_type": "execute_result",
          "data": {
            "text/plain": [
              "tensor([[1, 2],\n",
              "        [5, 6]])"
            ]
          },
          "metadata": {},
          "execution_count": 7
        }
      ]
    },
    {
      "cell_type": "code",
      "source": [
        "matrix.ndim"
      ],
      "metadata": {
        "colab": {
          "base_uri": "https://localhost:8080/"
        },
        "id": "DEk-EPCTopxn",
        "outputId": "366b431e-6268-406b-a717-3dabc85853e0"
      },
      "execution_count": null,
      "outputs": [
        {
          "output_type": "execute_result",
          "data": {
            "text/plain": [
              "2"
            ]
          },
          "metadata": {},
          "execution_count": 8
        }
      ]
    },
    {
      "cell_type": "code",
      "source": [
        "matrix.shape"
      ],
      "metadata": {
        "colab": {
          "base_uri": "https://localhost:8080/"
        },
        "id": "bBbtjHOfotLY",
        "outputId": "06b903aa-3280-4096-d5f8-3c16cc542c80"
      },
      "execution_count": null,
      "outputs": [
        {
          "output_type": "execute_result",
          "data": {
            "text/plain": [
              "torch.Size([2, 2])"
            ]
          },
          "metadata": {},
          "execution_count": 9
        }
      ]
    },
    {
      "cell_type": "code",
      "source": [
        "#tensor\n",
        "tensor=torch.tensor([[[1,2,3],\n",
        "                      [4,5,6],\n",
        "                      [7,8,9]]])\n",
        "tensor"
      ],
      "metadata": {
        "colab": {
          "base_uri": "https://localhost:8080/"
        },
        "id": "zwPSRdPyouQS",
        "outputId": "2049e64a-a922-4cc3-81b7-b9910879b944"
      },
      "execution_count": null,
      "outputs": [
        {
          "output_type": "execute_result",
          "data": {
            "text/plain": [
              "tensor([[[1, 2, 3],\n",
              "         [4, 5, 6],\n",
              "         [7, 8, 9]]])"
            ]
          },
          "metadata": {},
          "execution_count": 10
        }
      ]
    },
    {
      "cell_type": "code",
      "source": [
        "tensor.ndim"
      ],
      "metadata": {
        "colab": {
          "base_uri": "https://localhost:8080/"
        },
        "id": "_tkuSmEAo84w",
        "outputId": "d1f17432-1c15-4b29-f833-cd5428639d7f"
      },
      "execution_count": null,
      "outputs": [
        {
          "output_type": "execute_result",
          "data": {
            "text/plain": [
              "3"
            ]
          },
          "metadata": {},
          "execution_count": 11
        }
      ]
    },
    {
      "cell_type": "code",
      "source": [
        "tensor.shape"
      ],
      "metadata": {
        "colab": {
          "base_uri": "https://localhost:8080/"
        },
        "id": "lCQopcv4o90a",
        "outputId": "a1ba82b9-7842-4335-ac17-d43f334cf89b"
      },
      "execution_count": null,
      "outputs": [
        {
          "output_type": "execute_result",
          "data": {
            "text/plain": [
              "torch.Size([1, 3, 3])"
            ]
          },
          "metadata": {},
          "execution_count": 12
        }
      ]
    },
    {
      "cell_type": "code",
      "source": [
        "tensor[0]"
      ],
      "metadata": {
        "colab": {
          "base_uri": "https://localhost:8080/"
        },
        "id": "ADpLv-wBo-3G",
        "outputId": "6bb0385a-22ce-4d1e-fd3d-97612baa248e"
      },
      "execution_count": null,
      "outputs": [
        {
          "output_type": "execute_result",
          "data": {
            "text/plain": [
              "tensor([[1, 2, 3],\n",
              "        [4, 5, 6],\n",
              "        [7, 8, 9]])"
            ]
          },
          "metadata": {},
          "execution_count": 13
        }
      ]
    },
    {
      "cell_type": "code",
      "source": [
        "tensor[0][2][1]"
      ],
      "metadata": {
        "colab": {
          "base_uri": "https://localhost:8080/"
        },
        "id": "AocHWusepPLH",
        "outputId": "627d3d3e-12d4-4bf4-8b6f-4b44cc26a8aa"
      },
      "execution_count": null,
      "outputs": [
        {
          "output_type": "execute_result",
          "data": {
            "text/plain": [
              "tensor(8)"
            ]
          },
          "metadata": {},
          "execution_count": 14
        }
      ]
    },
    {
      "cell_type": "markdown",
      "source": [
        "###Random Tensors"
      ],
      "metadata": {
        "id": "rR9aiNhVpQFr"
      }
    },
    {
      "cell_type": "code",
      "source": [
        "#creating a random tensor\n",
        "random_tensor=torch.rand(3,4)\n",
        "random_tensor"
      ],
      "metadata": {
        "colab": {
          "base_uri": "https://localhost:8080/"
        },
        "id": "x-g7WC-kphlm",
        "outputId": "cd8c98a0-afa4-43c4-96e4-863bff1cbf9e"
      },
      "execution_count": null,
      "outputs": [
        {
          "output_type": "execute_result",
          "data": {
            "text/plain": [
              "tensor([[0.9775, 0.4873, 0.4720, 0.6009],\n",
              "        [0.1507, 0.6777, 0.9510, 0.7959],\n",
              "        [0.5736, 0.6402, 0.4228, 0.5127]])"
            ]
          },
          "metadata": {},
          "execution_count": 15
        }
      ]
    },
    {
      "cell_type": "code",
      "source": [
        "random_tensor.ndim"
      ],
      "metadata": {
        "colab": {
          "base_uri": "https://localhost:8080/"
        },
        "id": "3mzydnwZp42R",
        "outputId": "624ed9f7-9353-4e42-e026-c1fc1b4852a2"
      },
      "execution_count": null,
      "outputs": [
        {
          "output_type": "execute_result",
          "data": {
            "text/plain": [
              "2"
            ]
          },
          "metadata": {},
          "execution_count": 16
        }
      ]
    },
    {
      "cell_type": "code",
      "source": [
        "random_tensor=torch.rand(1,3,5)\n",
        "random_tensor"
      ],
      "metadata": {
        "colab": {
          "base_uri": "https://localhost:8080/"
        },
        "id": "PfBT9oiGp6bj",
        "outputId": "39b4e658-ab3b-4282-f504-17114b3ff2ac"
      },
      "execution_count": null,
      "outputs": [
        {
          "output_type": "execute_result",
          "data": {
            "text/plain": [
              "tensor([[[0.4179, 0.2373, 0.6631, 0.2113, 0.9417],\n",
              "         [0.5757, 0.0849, 0.2192, 0.8693, 0.8856],\n",
              "         [0.3176, 0.1118, 0.9652, 0.2562, 0.3009]]])"
            ]
          },
          "metadata": {},
          "execution_count": 17
        }
      ]
    },
    {
      "cell_type": "code",
      "source": [
        "random_tensor.ndim,random_tensor.shape"
      ],
      "metadata": {
        "colab": {
          "base_uri": "https://localhost:8080/"
        },
        "id": "uar1SPFDp-W8",
        "outputId": "e8c3d747-a3f7-4dfc-a667-5b840b52deaa"
      },
      "execution_count": null,
      "outputs": [
        {
          "output_type": "execute_result",
          "data": {
            "text/plain": [
              "(3, torch.Size([1, 3, 5]))"
            ]
          },
          "metadata": {},
          "execution_count": 18
        }
      ]
    },
    {
      "cell_type": "code",
      "source": [
        "zero=torch.zeros(1,2,3)\n",
        "zero"
      ],
      "metadata": {
        "colab": {
          "base_uri": "https://localhost:8080/"
        },
        "id": "_Vv56K_3qCwU",
        "outputId": "01f87e80-985d-4899-f146-9492184d2ef8"
      },
      "execution_count": null,
      "outputs": [
        {
          "output_type": "execute_result",
          "data": {
            "text/plain": [
              "tensor([[[0., 0., 0.],\n",
              "         [0., 0., 0.]]])"
            ]
          },
          "metadata": {},
          "execution_count": 19
        }
      ]
    },
    {
      "cell_type": "code",
      "source": [
        "ones=torch.ones(5,6)\n",
        "ones"
      ],
      "metadata": {
        "colab": {
          "base_uri": "https://localhost:8080/"
        },
        "id": "z5yP64OvqmRW",
        "outputId": "176c2925-f876-4016-fec1-e54431f1245c"
      },
      "execution_count": null,
      "outputs": [
        {
          "output_type": "execute_result",
          "data": {
            "text/plain": [
              "tensor([[1., 1., 1., 1., 1., 1.],\n",
              "        [1., 1., 1., 1., 1., 1.],\n",
              "        [1., 1., 1., 1., 1., 1.],\n",
              "        [1., 1., 1., 1., 1., 1.],\n",
              "        [1., 1., 1., 1., 1., 1.]])"
            ]
          },
          "metadata": {},
          "execution_count": 20
        }
      ]
    },
    {
      "cell_type": "code",
      "source": [
        "ones.dtype"
      ],
      "metadata": {
        "colab": {
          "base_uri": "https://localhost:8080/"
        },
        "id": "gl5URPqkqqSn",
        "outputId": "a799e674-a9c0-45a4-bd53-11edc775ae3f"
      },
      "execution_count": null,
      "outputs": [
        {
          "output_type": "execute_result",
          "data": {
            "text/plain": [
              "torch.float32"
            ]
          },
          "metadata": {},
          "execution_count": 21
        }
      ]
    },
    {
      "cell_type": "code",
      "source": [
        "#creating a tensor with range\n",
        "range_tensor=torch.arange(start=0,end=1000,step=15)\n",
        "range_tensor"
      ],
      "metadata": {
        "colab": {
          "base_uri": "https://localhost:8080/"
        },
        "id": "qxO1tIRgqtEk",
        "outputId": "3a08aa8e-b174-4a3f-fae9-4e259a40a802"
      },
      "execution_count": null,
      "outputs": [
        {
          "output_type": "execute_result",
          "data": {
            "text/plain": [
              "tensor([  0,  15,  30,  45,  60,  75,  90, 105, 120, 135, 150, 165, 180, 195,\n",
              "        210, 225, 240, 255, 270, 285, 300, 315, 330, 345, 360, 375, 390, 405,\n",
              "        420, 435, 450, 465, 480, 495, 510, 525, 540, 555, 570, 585, 600, 615,\n",
              "        630, 645, 660, 675, 690, 705, 720, 735, 750, 765, 780, 795, 810, 825,\n",
              "        840, 855, 870, 885, 900, 915, 930, 945, 960, 975, 990])"
            ]
          },
          "metadata": {},
          "execution_count": 22
        }
      ]
    },
    {
      "cell_type": "code",
      "source": [
        "#to create tensors with similar shape to another tensor\n",
        "zeros_like=torch.zeros_like(input=range_tensor)\n",
        "zeros_like"
      ],
      "metadata": {
        "colab": {
          "base_uri": "https://localhost:8080/"
        },
        "id": "45MDTcjMq1Re",
        "outputId": "d538d1ca-4291-4a73-d777-a047c8843d4e"
      },
      "execution_count": null,
      "outputs": [
        {
          "output_type": "execute_result",
          "data": {
            "text/plain": [
              "tensor([0, 0, 0, 0, 0, 0, 0, 0, 0, 0, 0, 0, 0, 0, 0, 0, 0, 0, 0, 0, 0, 0, 0, 0,\n",
              "        0, 0, 0, 0, 0, 0, 0, 0, 0, 0, 0, 0, 0, 0, 0, 0, 0, 0, 0, 0, 0, 0, 0, 0,\n",
              "        0, 0, 0, 0, 0, 0, 0, 0, 0, 0, 0, 0, 0, 0, 0, 0, 0, 0, 0])"
            ]
          },
          "metadata": {},
          "execution_count": 23
        }
      ]
    },
    {
      "cell_type": "markdown",
      "source": [
        "###Tensor Datatypes"
      ],
      "metadata": {
        "id": "q8ykhnTmrrO6"
      }
    },
    {
      "cell_type": "code",
      "source": [
        "float_16_tensor=torch.tensor([[9,8,7],\n",
        "                              [6,7,8]],\n",
        "                             dtype=torch.float16)\n",
        "float_16_tensor"
      ],
      "metadata": {
        "colab": {
          "base_uri": "https://localhost:8080/"
        },
        "id": "__y2qoVBr-u6",
        "outputId": "ce54e506-df47-4490-b217-4d067ca8b677"
      },
      "execution_count": null,
      "outputs": [
        {
          "output_type": "execute_result",
          "data": {
            "text/plain": [
              "tensor([[9., 8., 7.],\n",
              "        [6., 7., 8.]], dtype=torch.float16)"
            ]
          },
          "metadata": {},
          "execution_count": 24
        }
      ]
    },
    {
      "cell_type": "code",
      "source": [
        "torch.tensor([1,2,3],\n",
        "             dtype=None, #to edit the datatype of the tensor\n",
        "             device=None, #what device the tensor is on\n",
        "             requires_grad=False) #whether or not to track the gradients"
      ],
      "metadata": {
        "colab": {
          "base_uri": "https://localhost:8080/"
        },
        "id": "8MrGxea_sOV-",
        "outputId": "6c59b8d7-0b63-4209-e640-436e40092069"
      },
      "execution_count": null,
      "outputs": [
        {
          "output_type": "execute_result",
          "data": {
            "text/plain": [
              "tensor([1, 2, 3])"
            ]
          },
          "metadata": {},
          "execution_count": 25
        }
      ]
    },
    {
      "cell_type": "code",
      "source": [
        "float_64_tensor=float_16_tensor.type(torch.float64)\n",
        "float_64_tensor"
      ],
      "metadata": {
        "colab": {
          "base_uri": "https://localhost:8080/"
        },
        "id": "vgiuNDu_tEwn",
        "outputId": "500e6a23-b7b2-4de7-c928-245ff58d09f2"
      },
      "execution_count": null,
      "outputs": [
        {
          "output_type": "execute_result",
          "data": {
            "text/plain": [
              "tensor([[9., 8., 7.],\n",
              "        [6., 7., 8.]], dtype=torch.float64)"
            ]
          },
          "metadata": {},
          "execution_count": 26
        }
      ]
    },
    {
      "cell_type": "code",
      "source": [
        "float_16_tensor*float_64_tensor"
      ],
      "metadata": {
        "colab": {
          "base_uri": "https://localhost:8080/"
        },
        "id": "9fOIyt9dtSUN",
        "outputId": "767e1f12-3d49-4ce7-adce-fbb767e61d0b"
      },
      "execution_count": null,
      "outputs": [
        {
          "output_type": "execute_result",
          "data": {
            "text/plain": [
              "tensor([[81., 64., 49.],\n",
              "        [36., 49., 64.]], dtype=torch.float64)"
            ]
          },
          "metadata": {},
          "execution_count": 27
        }
      ]
    },
    {
      "cell_type": "code",
      "source": [
        "int_32_tensor=torch.tensor([3,6,9],dtype=torch.int32)\n",
        "int_32_tensor"
      ],
      "metadata": {
        "colab": {
          "base_uri": "https://localhost:8080/"
        },
        "id": "rbyNxc8RtfF6",
        "outputId": "f8b8471c-3af3-47dc-a4f2-7e1b379f1920"
      },
      "execution_count": null,
      "outputs": [
        {
          "output_type": "execute_result",
          "data": {
            "text/plain": [
              "tensor([3, 6, 9], dtype=torch.int32)"
            ]
          },
          "metadata": {},
          "execution_count": 28
        }
      ]
    },
    {
      "cell_type": "code",
      "source": [
        "float_16_tensor*int_32_tensor"
      ],
      "metadata": {
        "colab": {
          "base_uri": "https://localhost:8080/"
        },
        "id": "-EY3wEAEtqlv",
        "outputId": "92cd3fb5-8254-4d52-bbbe-70d75c396830"
      },
      "execution_count": null,
      "outputs": [
        {
          "output_type": "execute_result",
          "data": {
            "text/plain": [
              "tensor([[27., 48., 63.],\n",
              "        [18., 42., 72.]], dtype=torch.float16)"
            ]
          },
          "metadata": {},
          "execution_count": 29
        }
      ]
    },
    {
      "cell_type": "markdown",
      "source": [
        "###Getting attributes from tensor\n",
        "\n",
        "1. Getting datatype- use tensor.dtype\n",
        "2. Getting shape   - use tensor.shape\n",
        "3. Getting device  - use tensor.device"
      ],
      "metadata": {
        "id": "dX0MHxSMtxSp"
      }
    },
    {
      "cell_type": "code",
      "source": [
        "tensor_random=torch.rand(3,4,5)\n",
        "tensor_random"
      ],
      "metadata": {
        "colab": {
          "base_uri": "https://localhost:8080/"
        },
        "id": "hmXIIRANt_NX",
        "outputId": "77d1c0d6-8507-4255-d7f1-49feff4fa5ca"
      },
      "execution_count": null,
      "outputs": [
        {
          "output_type": "execute_result",
          "data": {
            "text/plain": [
              "tensor([[[0.8790, 0.8717, 0.8518, 0.7690, 0.3915],\n",
              "         [0.1343, 0.4252, 0.6183, 0.7524, 0.5414],\n",
              "         [0.8814, 0.6363, 0.9865, 0.5614, 0.6668],\n",
              "         [0.9933, 0.0162, 0.3951, 0.5109, 0.5043]],\n",
              "\n",
              "        [[0.4543, 0.9183, 0.7739, 0.4709, 0.5554],\n",
              "         [0.5021, 0.4498, 0.0794, 0.9025, 0.5810],\n",
              "         [0.8932, 0.9147, 0.3382, 0.6913, 0.3368],\n",
              "         [0.0536, 0.1075, 0.4883, 0.1019, 0.1291]],\n",
              "\n",
              "        [[0.5960, 0.9203, 0.9636, 0.4073, 0.1418],\n",
              "         [0.3173, 0.6567, 0.0509, 0.6981, 0.9970],\n",
              "         [0.2781, 0.8462, 0.5318, 0.9749, 0.0116],\n",
              "         [0.5799, 0.4332, 0.6460, 0.6977, 0.0210]]])"
            ]
          },
          "metadata": {},
          "execution_count": 30
        }
      ]
    },
    {
      "cell_type": "code",
      "source": [
        "tensor_random.shape,tensor_random.dtype,tensor_random.device"
      ],
      "metadata": {
        "colab": {
          "base_uri": "https://localhost:8080/"
        },
        "id": "1mjXzBsauE05",
        "outputId": "8df413e6-e1b7-428a-80d1-9f18cb5d980d"
      },
      "execution_count": null,
      "outputs": [
        {
          "output_type": "execute_result",
          "data": {
            "text/plain": [
              "(torch.Size([3, 4, 5]), torch.float32, device(type='cpu'))"
            ]
          },
          "metadata": {},
          "execution_count": 31
        }
      ]
    },
    {
      "cell_type": "code",
      "source": [
        "int_32_tensor.shape,int_32_tensor.dtype,int_32_tensor.device"
      ],
      "metadata": {
        "colab": {
          "base_uri": "https://localhost:8080/"
        },
        "id": "9QO8aEKKuOwG",
        "outputId": "724218af-e1d6-4903-82e9-2a46594875a8"
      },
      "execution_count": null,
      "outputs": [
        {
          "output_type": "execute_result",
          "data": {
            "text/plain": [
              "(torch.Size([3]), torch.int32, device(type='cpu'))"
            ]
          },
          "metadata": {},
          "execution_count": 32
        }
      ]
    },
    {
      "cell_type": "markdown",
      "source": [
        "###Tensor Operations\n",
        "\n",
        "1. Addition\n",
        "2. Subtraction\n",
        "3. Multiplication\n",
        "4. division\n",
        "5. Matrix Multiplication"
      ],
      "metadata": {
        "id": "XbNItdE5uY3e"
      }
    },
    {
      "cell_type": "code",
      "source": [
        "#addition\n",
        "tensor_random+10"
      ],
      "metadata": {
        "colab": {
          "base_uri": "https://localhost:8080/"
        },
        "id": "VjfVSd-9uqD4",
        "outputId": "7ec9098b-86e4-4bc9-bd8f-0a50d149309e"
      },
      "execution_count": null,
      "outputs": [
        {
          "output_type": "execute_result",
          "data": {
            "text/plain": [
              "tensor([[[10.8790, 10.8717, 10.8518, 10.7690, 10.3915],\n",
              "         [10.1343, 10.4252, 10.6183, 10.7524, 10.5414],\n",
              "         [10.8814, 10.6363, 10.9865, 10.5614, 10.6668],\n",
              "         [10.9933, 10.0162, 10.3951, 10.5109, 10.5043]],\n",
              "\n",
              "        [[10.4543, 10.9183, 10.7739, 10.4709, 10.5554],\n",
              "         [10.5021, 10.4498, 10.0794, 10.9025, 10.5810],\n",
              "         [10.8932, 10.9147, 10.3382, 10.6913, 10.3368],\n",
              "         [10.0536, 10.1075, 10.4883, 10.1019, 10.1291]],\n",
              "\n",
              "        [[10.5960, 10.9203, 10.9636, 10.4073, 10.1418],\n",
              "         [10.3173, 10.6567, 10.0510, 10.6981, 10.9970],\n",
              "         [10.2781, 10.8462, 10.5318, 10.9749, 10.0116],\n",
              "         [10.5799, 10.4332, 10.6460, 10.6977, 10.0210]]])"
            ]
          },
          "metadata": {},
          "execution_count": 33
        }
      ]
    },
    {
      "cell_type": "code",
      "source": [
        "#multiplication\n",
        "tensor_random*21"
      ],
      "metadata": {
        "colab": {
          "base_uri": "https://localhost:8080/"
        },
        "id": "GQorhk6putIA",
        "outputId": "fda0a7c4-be6d-424e-bfbb-86c4e948dadb"
      },
      "execution_count": null,
      "outputs": [
        {
          "output_type": "execute_result",
          "data": {
            "text/plain": [
              "tensor([[[18.4597, 18.3050, 17.8874, 16.1483,  8.2217],\n",
              "         [ 2.8211,  8.9301, 12.9833, 15.8000, 11.3687],\n",
              "         [18.5104, 13.3633, 20.7158, 11.7893, 14.0032],\n",
              "         [20.8601,  0.3401,  8.2975, 10.7286, 10.5898]],\n",
              "\n",
              "        [[ 9.5395, 19.2847, 16.2525,  9.8886, 11.6638],\n",
              "         [10.5438,  9.4465,  1.6673, 18.9533, 12.2016],\n",
              "         [18.7581, 19.2081,  7.1019, 14.5168,  7.0738],\n",
              "         [ 1.1264,  2.2569, 10.2543,  2.1402,  2.7107]],\n",
              "\n",
              "        [[12.5153, 19.3255, 20.2349,  8.5539,  2.9785],\n",
              "         [ 6.6637, 13.7915,  1.0699, 14.6601, 20.9378],\n",
              "         [ 5.8407, 17.7694, 11.1688, 20.4734,  0.2440],\n",
              "         [12.1778,  9.0969, 13.5659, 14.6516,  0.4412]]])"
            ]
          },
          "metadata": {},
          "execution_count": 34
        }
      ]
    },
    {
      "cell_type": "code",
      "source": [
        "#subtraction\n",
        "tensor_random-9"
      ],
      "metadata": {
        "colab": {
          "base_uri": "https://localhost:8080/"
        },
        "id": "XhtkYsvquwdS",
        "outputId": "e7fddee6-c51b-45d1-8dec-bc30b419aefc"
      },
      "execution_count": null,
      "outputs": [
        {
          "output_type": "execute_result",
          "data": {
            "text/plain": [
              "tensor([[[-8.1210, -8.1283, -8.1482, -8.2310, -8.6085],\n",
              "         [-8.8657, -8.5748, -8.3817, -8.2476, -8.4586],\n",
              "         [-8.1186, -8.3637, -8.0135, -8.4386, -8.3332],\n",
              "         [-8.0067, -8.9838, -8.6049, -8.4891, -8.4957]],\n",
              "\n",
              "        [[-8.5457, -8.0817, -8.2261, -8.5291, -8.4446],\n",
              "         [-8.4979, -8.5502, -8.9206, -8.0975, -8.4190],\n",
              "         [-8.1068, -8.0853, -8.6618, -8.3087, -8.6632],\n",
              "         [-8.9464, -8.8925, -8.5117, -8.8981, -8.8709]],\n",
              "\n",
              "        [[-8.4040, -8.0797, -8.0364, -8.5927, -8.8582],\n",
              "         [-8.6827, -8.3433, -8.9490, -8.3019, -8.0030],\n",
              "         [-8.7219, -8.1538, -8.4682, -8.0251, -8.9884],\n",
              "         [-8.4201, -8.5668, -8.3540, -8.3023, -8.9790]]])"
            ]
          },
          "metadata": {},
          "execution_count": 35
        }
      ]
    },
    {
      "cell_type": "code",
      "source": [
        "#functions\n",
        "tensor=torch.mul(tensor_random,10)\n",
        "print(f\"Multiplying 10 : {tensor}\")\n",
        "tensor=torch.add(tensor_random,10)\n",
        "print(f\"Adding 10 : {tensor}\")"
      ],
      "metadata": {
        "colab": {
          "base_uri": "https://localhost:8080/"
        },
        "id": "R9EQCIACuyy8",
        "outputId": "4fa2cfb5-7491-4b17-c9b6-4956c97b3fc5"
      },
      "execution_count": null,
      "outputs": [
        {
          "output_type": "stream",
          "name": "stdout",
          "text": [
            "Multiplying 10 : tensor([[[8.7904, 8.7167, 8.5178, 7.6897, 3.9151],\n",
            "         [1.3434, 4.2524, 6.1825, 7.5238, 5.4137],\n",
            "         [8.8145, 6.3635, 9.8647, 5.6140, 6.6682],\n",
            "         [9.9334, 0.1619, 3.9512, 5.1089, 5.0428]],\n",
            "\n",
            "        [[4.5426, 9.1832, 7.7393, 4.7089, 5.5542],\n",
            "         [5.0209, 4.4984, 0.7939, 9.0254, 5.8103],\n",
            "         [8.9324, 9.1467, 3.3819, 6.9127, 3.3685],\n",
            "         [0.5364, 1.0747, 4.8830, 1.0191, 1.2908]],\n",
            "\n",
            "        [[5.9597, 9.2026, 9.6357, 4.0733, 1.4183],\n",
            "         [3.1732, 6.5674, 0.5095, 6.9810, 9.9704],\n",
            "         [2.7813, 8.4616, 5.3185, 9.7492, 0.1162],\n",
            "         [5.7990, 4.3318, 6.4600, 6.9769, 0.2101]]])\n",
            "Adding 10 : tensor([[[10.8790, 10.8717, 10.8518, 10.7690, 10.3915],\n",
            "         [10.1343, 10.4252, 10.6183, 10.7524, 10.5414],\n",
            "         [10.8814, 10.6363, 10.9865, 10.5614, 10.6668],\n",
            "         [10.9933, 10.0162, 10.3951, 10.5109, 10.5043]],\n",
            "\n",
            "        [[10.4543, 10.9183, 10.7739, 10.4709, 10.5554],\n",
            "         [10.5021, 10.4498, 10.0794, 10.9025, 10.5810],\n",
            "         [10.8932, 10.9147, 10.3382, 10.6913, 10.3368],\n",
            "         [10.0536, 10.1075, 10.4883, 10.1019, 10.1291]],\n",
            "\n",
            "        [[10.5960, 10.9203, 10.9636, 10.4073, 10.1418],\n",
            "         [10.3173, 10.6567, 10.0510, 10.6981, 10.9970],\n",
            "         [10.2781, 10.8462, 10.5318, 10.9749, 10.0116],\n",
            "         [10.5799, 10.4332, 10.6460, 10.6977, 10.0210]]])\n"
          ]
        }
      ]
    },
    {
      "cell_type": "markdown",
      "source": [
        "####Matrix Multiplication\n",
        "\n",
        "1. Element wise multiplication\n",
        "2. Multiplying with another matrix i.e dot product"
      ],
      "metadata": {
        "id": "e1TfMaoqvT0S"
      }
    },
    {
      "cell_type": "code",
      "source": [
        "#Element wise multiplication\n",
        "element_mul=int_32_tensor*float_16_tensor\n",
        "element_mul"
      ],
      "metadata": {
        "colab": {
          "base_uri": "https://localhost:8080/"
        },
        "id": "abXgQVl0vjF9",
        "outputId": "be8a8778-82b7-4595-8000-12178da48402"
      },
      "execution_count": null,
      "outputs": [
        {
          "output_type": "execute_result",
          "data": {
            "text/plain": [
              "tensor([[27., 48., 63.],\n",
              "        [18., 42., 72.]], dtype=torch.float16)"
            ]
          },
          "metadata": {},
          "execution_count": 37
        }
      ]
    },
    {
      "cell_type": "code",
      "source": [
        "#matrix multiplicationt\n",
        "tensor_1=torch.rand(4,5)\n",
        "tensor_2=torch.rand(5,4)\n",
        "\n",
        "mat_mul=torch.matmul(tensor_1,tensor_2)\n",
        "mat_mul_short=torch.mm(tensor_1,tensor_2)#alias of matmul\n",
        "mat_mul,mat_mul_short"
      ],
      "metadata": {
        "colab": {
          "base_uri": "https://localhost:8080/"
        },
        "id": "CXoIWF1pw1Za",
        "outputId": "320963d5-2541-416b-d8d6-716675ee82bb"
      },
      "execution_count": null,
      "outputs": [
        {
          "output_type": "execute_result",
          "data": {
            "text/plain": [
              "(tensor([[0.8328, 0.7737, 0.7398, 1.0156],\n",
              "         [1.2114, 0.9758, 1.6953, 2.1485],\n",
              "         [0.4158, 0.7590, 1.3216, 1.3597],\n",
              "         [0.8014, 0.5625, 0.8112, 1.3123]]),\n",
              " tensor([[0.8328, 0.7737, 0.7398, 1.0156],\n",
              "         [1.2114, 0.9758, 1.6953, 2.1485],\n",
              "         [0.4158, 0.7590, 1.3216, 1.3597],\n",
              "         [0.8014, 0.5625, 0.8112, 1.3123]]))"
            ]
          },
          "metadata": {},
          "execution_count": 38
        }
      ]
    },
    {
      "cell_type": "code",
      "source": [
        "#the most common error in matrix multiplication : shape error\n",
        "tensor_mul_1=torch.rand(3,4)\n",
        "tensor_mul_2=torch.rand(2,3)\n",
        "\n",
        "mat_mul_tensor=torch.matmul(tensor_mul_1,tensor_mul_2) #the inner dimensions must match\n",
        "mat_mul_tensor"
      ],
      "metadata": {
        "id": "klW05ap0xCtR",
        "colab": {
          "base_uri": "https://localhost:8080/",
          "height": 235
        },
        "outputId": "c329b8c6-c2f2-43e4-be16-a758b9ff91d3"
      },
      "execution_count": null,
      "outputs": [
        {
          "output_type": "error",
          "ename": "RuntimeError",
          "evalue": "ignored",
          "traceback": [
            "\u001b[0;31m---------------------------------------------------------------------------\u001b[0m",
            "\u001b[0;31mRuntimeError\u001b[0m                              Traceback (most recent call last)",
            "\u001b[0;32m<ipython-input-40-7423e12684b9>\u001b[0m in \u001b[0;36m<module>\u001b[0;34m\u001b[0m\n\u001b[1;32m      3\u001b[0m \u001b[0mtensor_mul_2\u001b[0m\u001b[0;34m=\u001b[0m\u001b[0mtorch\u001b[0m\u001b[0;34m.\u001b[0m\u001b[0mrand\u001b[0m\u001b[0;34m(\u001b[0m\u001b[0;36m2\u001b[0m\u001b[0;34m,\u001b[0m\u001b[0;36m3\u001b[0m\u001b[0;34m)\u001b[0m\u001b[0;34m\u001b[0m\u001b[0;34m\u001b[0m\u001b[0m\n\u001b[1;32m      4\u001b[0m \u001b[0;34m\u001b[0m\u001b[0m\n\u001b[0;32m----> 5\u001b[0;31m \u001b[0mmat_mul_tensor\u001b[0m\u001b[0;34m=\u001b[0m\u001b[0mtorch\u001b[0m\u001b[0;34m.\u001b[0m\u001b[0mmatmul\u001b[0m\u001b[0;34m(\u001b[0m\u001b[0mtensor_mul_1\u001b[0m\u001b[0;34m,\u001b[0m\u001b[0mtensor_mul_2\u001b[0m\u001b[0;34m)\u001b[0m \u001b[0;31m#the inner dimensions must match\u001b[0m\u001b[0;34m\u001b[0m\u001b[0;34m\u001b[0m\u001b[0m\n\u001b[0m\u001b[1;32m      6\u001b[0m \u001b[0mmat_mul_tensor\u001b[0m\u001b[0;34m\u001b[0m\u001b[0;34m\u001b[0m\u001b[0m\n",
            "\u001b[0;31mRuntimeError\u001b[0m: mat1 and mat2 shapes cannot be multiplied (3x4 and 2x3)"
          ]
        }
      ]
    },
    {
      "cell_type": "code",
      "source": [
        "#using transpose\n",
        "tensor_A=torch.tensor([[1,2],\n",
        "                       [3,4],\n",
        "                       [5,6]])\n",
        "tensor_B=torch.tensor([[7,10],\n",
        "                       [8,11],\n",
        "                       [9,12]])\n",
        "tensor_A.T,tensor_B.T"
      ],
      "metadata": {
        "colab": {
          "base_uri": "https://localhost:8080/"
        },
        "id": "Xkp53IMk4zpL",
        "outputId": "40094e70-5985-4e4a-d483-628f10230661"
      },
      "execution_count": null,
      "outputs": [
        {
          "output_type": "execute_result",
          "data": {
            "text/plain": [
              "(tensor([[1, 3, 5],\n",
              "         [2, 4, 6]]), tensor([[ 7,  8,  9],\n",
              "         [10, 11, 12]]))"
            ]
          },
          "metadata": {},
          "execution_count": 41
        }
      ]
    },
    {
      "cell_type": "code",
      "source": [
        "tensor_C=torch.mm(tensor_A,tensor_B.T)\n",
        "tensor_C"
      ],
      "metadata": {
        "colab": {
          "base_uri": "https://localhost:8080/"
        },
        "id": "zfcQMLBf6FU0",
        "outputId": "783595fa-6cef-4191-9edd-c4ca32ec81ce"
      },
      "execution_count": null,
      "outputs": [
        {
          "output_type": "execute_result",
          "data": {
            "text/plain": [
              "tensor([[ 27,  30,  33],\n",
              "        [ 61,  68,  75],\n",
              "        [ 95, 106, 117]])"
            ]
          },
          "metadata": {},
          "execution_count": 42
        }
      ]
    },
    {
      "cell_type": "markdown",
      "source": [
        "###Tensor Aggregation\n",
        "1. Mean\n",
        "2. Max\n",
        "3. Min\n",
        "4. Sum"
      ],
      "metadata": {
        "id": "mMMQo9zI6LEs"
      }
    },
    {
      "cell_type": "code",
      "source": [
        "x=torch.arange(0,100,5)\n",
        "x"
      ],
      "metadata": {
        "colab": {
          "base_uri": "https://localhost:8080/"
        },
        "id": "NkiOs9Fb7AjA",
        "outputId": "ca71c4d9-3a42-48a0-cb61-78faa47f6b5a"
      },
      "execution_count": null,
      "outputs": [
        {
          "output_type": "execute_result",
          "data": {
            "text/plain": [
              "tensor([ 0,  5, 10, 15, 20, 25, 30, 35, 40, 45, 50, 55, 60, 65, 70, 75, 80, 85,\n",
              "        90, 95])"
            ]
          },
          "metadata": {},
          "execution_count": 43
        }
      ]
    },
    {
      "cell_type": "code",
      "source": [
        "#min\n",
        "torch.min(x)"
      ],
      "metadata": {
        "colab": {
          "base_uri": "https://localhost:8080/"
        },
        "id": "t6EBgT657GJP",
        "outputId": "4ba92bd9-0471-4816-c90a-081224613657"
      },
      "execution_count": null,
      "outputs": [
        {
          "output_type": "execute_result",
          "data": {
            "text/plain": [
              "tensor(0)"
            ]
          },
          "metadata": {},
          "execution_count": 44
        }
      ]
    },
    {
      "cell_type": "code",
      "source": [
        "#max\n",
        "torch.max(x)"
      ],
      "metadata": {
        "colab": {
          "base_uri": "https://localhost:8080/"
        },
        "id": "e8HMy5xm7Md1",
        "outputId": "7b8892a9-0fa9-42e0-f4d7-aea80b1d57a1"
      },
      "execution_count": null,
      "outputs": [
        {
          "output_type": "execute_result",
          "data": {
            "text/plain": [
              "tensor(95)"
            ]
          },
          "metadata": {},
          "execution_count": 45
        }
      ]
    },
    {
      "cell_type": "code",
      "source": [
        "#mean\n",
        "torch.mean(x)"
      ],
      "metadata": {
        "colab": {
          "base_uri": "https://localhost:8080/",
          "height": 200
        },
        "id": "jcQs4x9n7OUt",
        "outputId": "4a3d2646-ac90-487f-fc77-2d408e88e1c7"
      },
      "execution_count": null,
      "outputs": [
        {
          "output_type": "error",
          "ename": "RuntimeError",
          "evalue": "ignored",
          "traceback": [
            "\u001b[0;31m---------------------------------------------------------------------------\u001b[0m",
            "\u001b[0;31mRuntimeError\u001b[0m                              Traceback (most recent call last)",
            "\u001b[0;32m<ipython-input-47-ae7ca73a7780>\u001b[0m in \u001b[0;36m<module>\u001b[0;34m\u001b[0m\n\u001b[1;32m      1\u001b[0m \u001b[0;31m#mean\u001b[0m\u001b[0;34m\u001b[0m\u001b[0;34m\u001b[0m\u001b[0;34m\u001b[0m\u001b[0m\n\u001b[0;32m----> 2\u001b[0;31m \u001b[0mtorch\u001b[0m\u001b[0;34m.\u001b[0m\u001b[0mmean\u001b[0m\u001b[0;34m(\u001b[0m\u001b[0mx\u001b[0m\u001b[0;34m)\u001b[0m\u001b[0;34m\u001b[0m\u001b[0;34m\u001b[0m\u001b[0m\n\u001b[0m",
            "\u001b[0;31mRuntimeError\u001b[0m: mean(): could not infer output dtype. Input dtype must be either a floating point or complex dtype. Got: Long"
          ]
        }
      ]
    },
    {
      "cell_type": "markdown",
      "source": [
        "torch.mean doesnt work with int types."
      ],
      "metadata": {
        "id": "9VCPLIvs7Wa1"
      }
    },
    {
      "cell_type": "code",
      "source": [
        "torch.mean(x.type(torch.float32))"
      ],
      "metadata": {
        "colab": {
          "base_uri": "https://localhost:8080/"
        },
        "id": "VvBf7iS07UrK",
        "outputId": "d2a5d271-3870-49f4-85b3-1a9f6bc73c9b"
      },
      "execution_count": null,
      "outputs": [
        {
          "output_type": "execute_result",
          "data": {
            "text/plain": [
              "tensor(47.5000)"
            ]
          },
          "metadata": {},
          "execution_count": 48
        }
      ]
    },
    {
      "cell_type": "code",
      "source": [
        "#sum\n",
        "torch.sum(x)"
      ],
      "metadata": {
        "colab": {
          "base_uri": "https://localhost:8080/"
        },
        "id": "Ctvb0KRB7j2K",
        "outputId": "26cca938-35eb-4ad6-ad3d-2851d324fcb8"
      },
      "execution_count": null,
      "outputs": [
        {
          "output_type": "execute_result",
          "data": {
            "text/plain": [
              "tensor(950)"
            ]
          },
          "metadata": {},
          "execution_count": 49
        }
      ]
    },
    {
      "cell_type": "markdown",
      "source": [
        "###Positional min and max"
      ],
      "metadata": {
        "id": "NC-WpPZL7nCG"
      }
    },
    {
      "cell_type": "code",
      "source": [
        "#positional minimum\n",
        "x.argmin()"
      ],
      "metadata": {
        "colab": {
          "base_uri": "https://localhost:8080/"
        },
        "id": "pITK4V0S7t4N",
        "outputId": "b6cbf9d0-255a-40aa-d44f-a05c26a5e6cf"
      },
      "execution_count": null,
      "outputs": [
        {
          "output_type": "execute_result",
          "data": {
            "text/plain": [
              "tensor(0)"
            ]
          },
          "metadata": {},
          "execution_count": 50
        }
      ]
    },
    {
      "cell_type": "code",
      "source": [
        "#positional maximum\n",
        "x.argmax()"
      ],
      "metadata": {
        "colab": {
          "base_uri": "https://localhost:8080/"
        },
        "id": "UaRaS4Zj7u_w",
        "outputId": "1068fa7e-78c6-4449-8f9a-0fe41f242392"
      },
      "execution_count": null,
      "outputs": [
        {
          "output_type": "execute_result",
          "data": {
            "text/plain": [
              "tensor(19)"
            ]
          },
          "metadata": {},
          "execution_count": 51
        }
      ]
    },
    {
      "cell_type": "code",
      "source": [
        "x[0],x[19]"
      ],
      "metadata": {
        "colab": {
          "base_uri": "https://localhost:8080/"
        },
        "id": "uzfr67UO7wM-",
        "outputId": "7464df93-aeec-4982-a4d5-9491be40c84c"
      },
      "execution_count": null,
      "outputs": [
        {
          "output_type": "execute_result",
          "data": {
            "text/plain": [
              "(tensor(0), tensor(95))"
            ]
          },
          "metadata": {},
          "execution_count": 52
        }
      ]
    },
    {
      "cell_type": "markdown",
      "source": [
        "###Reshaping,stacking,squeezing and unsqueezing tensors\n",
        "\n",
        "* Reshaping- reshaping the input tensor to a different tensor\n",
        "* View     - return a view of an input tensor of certain shape but keep memory as the original tensor\n",
        "* Stacking - combine multiple tensors on top of each other or side by side\n",
        "* Squeeze  - remove dimensions from tensor\n",
        "* Unsqueeze- add dimension to a tensor\n",
        "* Permute  - return a view of the input with the dimensions permuted in a certain way"
      ],
      "metadata": {
        "id": "0OllTIzF7z3K"
      }
    },
    {
      "cell_type": "code",
      "source": [
        "x=torch.arange(1.,50.,5)\n",
        "x"
      ],
      "metadata": {
        "colab": {
          "base_uri": "https://localhost:8080/"
        },
        "id": "6LzYXQse9DKe",
        "outputId": "d7f392c0-8e1e-4897-b508-de4b7f46aaf9"
      },
      "execution_count": null,
      "outputs": [
        {
          "output_type": "execute_result",
          "data": {
            "text/plain": [
              "tensor([ 1.,  6., 11., 16., 21., 26., 31., 36., 41., 46.])"
            ]
          },
          "metadata": {},
          "execution_count": 53
        }
      ]
    },
    {
      "cell_type": "code",
      "source": [
        "x.shape"
      ],
      "metadata": {
        "colab": {
          "base_uri": "https://localhost:8080/"
        },
        "id": "Mh8oIqqs9PsY",
        "outputId": "76482dbd-be32-4aff-f7a0-f6194d29c36f"
      },
      "execution_count": null,
      "outputs": [
        {
          "output_type": "execute_result",
          "data": {
            "text/plain": [
              "torch.Size([10])"
            ]
          },
          "metadata": {},
          "execution_count": 54
        }
      ]
    },
    {
      "cell_type": "code",
      "source": [
        "#reshaping\n",
        "x_reshaped=x.reshape(5,2) #reshape has to be compatible with original shape\n",
        "x_reshaped"
      ],
      "metadata": {
        "colab": {
          "base_uri": "https://localhost:8080/"
        },
        "id": "0QxqZ7YY9hdv",
        "outputId": "46fd0261-f3b2-483b-db7a-3c66d3327810"
      },
      "execution_count": null,
      "outputs": [
        {
          "output_type": "execute_result",
          "data": {
            "text/plain": [
              "tensor([[ 1.,  6.],\n",
              "        [11., 16.],\n",
              "        [21., 26.],\n",
              "        [31., 36.],\n",
              "        [41., 46.]])"
            ]
          },
          "metadata": {},
          "execution_count": 55
        }
      ]
    },
    {
      "cell_type": "code",
      "source": [
        "#change the view\n",
        "z=x.view(10,1)\n",
        "z,z.shape"
      ],
      "metadata": {
        "colab": {
          "base_uri": "https://localhost:8080/"
        },
        "id": "nTDIW4MX9pwP",
        "outputId": "bdf1b98b-5223-4f9b-8f46-0278170e7344"
      },
      "execution_count": null,
      "outputs": [
        {
          "output_type": "execute_result",
          "data": {
            "text/plain": [
              "(tensor([[ 1.],\n",
              "         [ 6.],\n",
              "         [11.],\n",
              "         [16.],\n",
              "         [21.],\n",
              "         [26.],\n",
              "         [31.],\n",
              "         [36.],\n",
              "         [41.],\n",
              "         [46.]]), torch.Size([10, 1]))"
            ]
          },
          "metadata": {},
          "execution_count": 56
        }
      ]
    },
    {
      "cell_type": "code",
      "source": [
        "#changing z changes x because a view share the original tensor's memory\n",
        "z[7,:]=52\n",
        "z,x"
      ],
      "metadata": {
        "colab": {
          "base_uri": "https://localhost:8080/"
        },
        "id": "9-IP0QnD9xwz",
        "outputId": "bcea3c05-7b6c-4e65-9bf5-4cf5a0372e78"
      },
      "execution_count": null,
      "outputs": [
        {
          "output_type": "execute_result",
          "data": {
            "text/plain": [
              "(tensor([[ 1.],\n",
              "         [ 6.],\n",
              "         [11.],\n",
              "         [16.],\n",
              "         [21.],\n",
              "         [26.],\n",
              "         [31.],\n",
              "         [52.],\n",
              "         [41.],\n",
              "         [46.]]), tensor([ 1.,  6., 11., 16., 21., 26., 31., 52., 41., 46.]))"
            ]
          },
          "metadata": {},
          "execution_count": 57
        }
      ]
    },
    {
      "cell_type": "code",
      "source": [
        "#stacking\n",
        "x_stacked=torch.stack([x,x],dim=0)\n",
        "x_stacked"
      ],
      "metadata": {
        "colab": {
          "base_uri": "https://localhost:8080/"
        },
        "id": "IkLGhtc7-Tw9",
        "outputId": "bd33f5e2-0a2c-4e22-8d1b-a24098d45157"
      },
      "execution_count": null,
      "outputs": [
        {
          "output_type": "execute_result",
          "data": {
            "text/plain": [
              "tensor([[ 1.,  6., 11., 16., 21., 26., 31., 52., 41., 46.],\n",
              "        [ 1.,  6., 11., 16., 21., 26., 31., 52., 41., 46.]])"
            ]
          },
          "metadata": {},
          "execution_count": 58
        }
      ]
    },
    {
      "cell_type": "code",
      "source": [
        "x_stacked=torch.stack([x,x],dim=1)\n",
        "x_stacked"
      ],
      "metadata": {
        "colab": {
          "base_uri": "https://localhost:8080/"
        },
        "id": "urvMaLXo-gxE",
        "outputId": "722d6b97-0598-47bc-fed5-debe5ce2bdad"
      },
      "execution_count": null,
      "outputs": [
        {
          "output_type": "execute_result",
          "data": {
            "text/plain": [
              "tensor([[ 1.,  1.],\n",
              "        [ 6.,  6.],\n",
              "        [11., 11.],\n",
              "        [16., 16.],\n",
              "        [21., 21.],\n",
              "        [26., 26.],\n",
              "        [31., 31.],\n",
              "        [52., 52.],\n",
              "        [41., 41.],\n",
              "        [46., 46.]])"
            ]
          },
          "metadata": {},
          "execution_count": 59
        }
      ]
    },
    {
      "cell_type": "code",
      "source": [
        "#squeezing\n",
        "x=torch.arange(0.,10.)\n",
        "x_reshaped=x.reshape(1,10)\n",
        "\n",
        "x_squeezed=torch.squeeze(x_reshaped,dim=0)"
      ],
      "metadata": {
        "id": "3TfyXqeC-mxc"
      },
      "execution_count": null,
      "outputs": []
    },
    {
      "cell_type": "code",
      "source": [
        "x_reshaped.shape,x_squeezed.shape"
      ],
      "metadata": {
        "colab": {
          "base_uri": "https://localhost:8080/"
        },
        "id": "cEt2Th8a-7t3",
        "outputId": "a2a2d4b5-d9c7-4f80-8b8d-48fc4af7da86"
      },
      "execution_count": null,
      "outputs": [
        {
          "output_type": "execute_result",
          "data": {
            "text/plain": [
              "(torch.Size([1, 10]), torch.Size([10]))"
            ]
          },
          "metadata": {},
          "execution_count": 61
        }
      ]
    },
    {
      "cell_type": "code",
      "source": [
        "#unsqueeze\n",
        "x_unsqueezed=x_squeezed.unsqueeze(dim=1)\n",
        "x_unsqueezed"
      ],
      "metadata": {
        "colab": {
          "base_uri": "https://localhost:8080/"
        },
        "id": "lO1x9F8__TEL",
        "outputId": "19a22f5e-98dc-460d-a09d-8ead8540bfd5"
      },
      "execution_count": null,
      "outputs": [
        {
          "output_type": "execute_result",
          "data": {
            "text/plain": [
              "tensor([[0.],\n",
              "        [1.],\n",
              "        [2.],\n",
              "        [3.],\n",
              "        [4.],\n",
              "        [5.],\n",
              "        [6.],\n",
              "        [7.],\n",
              "        [8.],\n",
              "        [9.]])"
            ]
          },
          "metadata": {},
          "execution_count": 62
        }
      ]
    },
    {
      "cell_type": "code",
      "source": [
        "#permuting-returns a view with dimensions rearranged\n",
        "x=torch.ones(size=(4,2,7))\n",
        "x\n"
      ],
      "metadata": {
        "colab": {
          "base_uri": "https://localhost:8080/"
        },
        "id": "EwXI24RK_2r9",
        "outputId": "931086f6-8510-4f11-b42d-d142140d5622"
      },
      "execution_count": null,
      "outputs": [
        {
          "output_type": "execute_result",
          "data": {
            "text/plain": [
              "tensor([[[1., 1., 1., 1., 1., 1., 1.],\n",
              "         [1., 1., 1., 1., 1., 1., 1.]],\n",
              "\n",
              "        [[1., 1., 1., 1., 1., 1., 1.],\n",
              "         [1., 1., 1., 1., 1., 1., 1.]],\n",
              "\n",
              "        [[1., 1., 1., 1., 1., 1., 1.],\n",
              "         [1., 1., 1., 1., 1., 1., 1.]],\n",
              "\n",
              "        [[1., 1., 1., 1., 1., 1., 1.],\n",
              "         [1., 1., 1., 1., 1., 1., 1.]]])"
            ]
          },
          "metadata": {},
          "execution_count": 63
        }
      ]
    },
    {
      "cell_type": "code",
      "source": [
        "x_permuted=x.permute(2,0,1) #shifts axis 0->2, 1->0, 2->1\n"
      ],
      "metadata": {
        "id": "I1241xofALcB"
      },
      "execution_count": null,
      "outputs": []
    },
    {
      "cell_type": "code",
      "source": [
        "x_permuted.shape,x.shape"
      ],
      "metadata": {
        "colab": {
          "base_uri": "https://localhost:8080/"
        },
        "id": "i11TIjp3AfOF",
        "outputId": "a989a0c2-2624-458c-a61f-4549e24c1111"
      },
      "execution_count": null,
      "outputs": [
        {
          "output_type": "execute_result",
          "data": {
            "text/plain": [
              "(torch.Size([7, 4, 2]), torch.Size([4, 2, 7]))"
            ]
          },
          "metadata": {},
          "execution_count": 65
        }
      ]
    },
    {
      "cell_type": "markdown",
      "source": [
        "###Indexing in PyTorch"
      ],
      "metadata": {
        "id": "iL-hihbEAiZI"
      }
    },
    {
      "cell_type": "code",
      "source": [
        "x=torch.arange(1.,10.).reshape(1,3,3)\n",
        "x"
      ],
      "metadata": {
        "colab": {
          "base_uri": "https://localhost:8080/"
        },
        "id": "gFyLjtkkyVD-",
        "outputId": "194f2368-06d4-4482-8bce-8d6b2b7d18ee"
      },
      "execution_count": null,
      "outputs": [
        {
          "output_type": "execute_result",
          "data": {
            "text/plain": [
              "tensor([[[1., 2., 3.],\n",
              "         [4., 5., 6.],\n",
              "         [7., 8., 9.]]])"
            ]
          },
          "metadata": {},
          "execution_count": 66
        }
      ]
    },
    {
      "cell_type": "code",
      "source": [
        "#indexing on the tensor\n",
        "x[0]"
      ],
      "metadata": {
        "colab": {
          "base_uri": "https://localhost:8080/"
        },
        "id": "LGCgf1DMyZWg",
        "outputId": "b93d12cc-f080-4817-e893-0ad75c800f0e"
      },
      "execution_count": null,
      "outputs": [
        {
          "output_type": "execute_result",
          "data": {
            "text/plain": [
              "tensor([[1., 2., 3.],\n",
              "        [4., 5., 6.],\n",
              "        [7., 8., 9.]])"
            ]
          },
          "metadata": {},
          "execution_count": 67
        }
      ]
    },
    {
      "cell_type": "code",
      "source": [
        "x[0][0],x[0,0]"
      ],
      "metadata": {
        "colab": {
          "base_uri": "https://localhost:8080/"
        },
        "id": "mmTGedMsycio",
        "outputId": "e6b1ac12-4d53-4c93-d2f0-2154d72dea52"
      },
      "execution_count": null,
      "outputs": [
        {
          "output_type": "execute_result",
          "data": {
            "text/plain": [
              "(tensor([1., 2., 3.]), tensor([1., 2., 3.]))"
            ]
          },
          "metadata": {},
          "execution_count": 68
        }
      ]
    },
    {
      "cell_type": "code",
      "source": [
        "x[0,1,1]"
      ],
      "metadata": {
        "colab": {
          "base_uri": "https://localhost:8080/"
        },
        "id": "jI-yD_QDye7j",
        "outputId": "e9f66a17-479f-4932-9433-2d689969de1c"
      },
      "execution_count": null,
      "outputs": [
        {
          "output_type": "execute_result",
          "data": {
            "text/plain": [
              "tensor(5.)"
            ]
          },
          "metadata": {},
          "execution_count": 69
        }
      ]
    },
    {
      "cell_type": "code",
      "source": [
        "x[0,2,1]"
      ],
      "metadata": {
        "colab": {
          "base_uri": "https://localhost:8080/"
        },
        "id": "jsvT444AyjM-",
        "outputId": "2422a34d-7d9e-4989-b86f-724966b2beb5"
      },
      "execution_count": null,
      "outputs": [
        {
          "output_type": "execute_result",
          "data": {
            "text/plain": [
              "tensor(8.)"
            ]
          },
          "metadata": {},
          "execution_count": 70
        }
      ]
    },
    {
      "cell_type": "code",
      "source": [
        "#using : to select all values of a particular dimension\n",
        "x[:,2]"
      ],
      "metadata": {
        "colab": {
          "base_uri": "https://localhost:8080/"
        },
        "id": "zj14L92Rynr6",
        "outputId": "7748509a-41c9-4766-bbd8-34de2a781108"
      },
      "execution_count": null,
      "outputs": [
        {
          "output_type": "execute_result",
          "data": {
            "text/plain": [
              "tensor([[7., 8., 9.]])"
            ]
          },
          "metadata": {},
          "execution_count": 71
        }
      ]
    },
    {
      "cell_type": "code",
      "source": [
        "x[:,2,:]"
      ],
      "metadata": {
        "colab": {
          "base_uri": "https://localhost:8080/"
        },
        "id": "vvbehaAGy-Of",
        "outputId": "21e9844d-b6fb-48df-e5ea-22a7a2b81e5c"
      },
      "execution_count": null,
      "outputs": [
        {
          "output_type": "execute_result",
          "data": {
            "text/plain": [
              "tensor([[7., 8., 9.]])"
            ]
          },
          "metadata": {},
          "execution_count": 72
        }
      ]
    },
    {
      "cell_type": "code",
      "source": [
        "x[0,:,:]"
      ],
      "metadata": {
        "colab": {
          "base_uri": "https://localhost:8080/"
        },
        "id": "G5fAh6zVzBH2",
        "outputId": "0bc4cd7d-14ff-4465-e74a-67f7339884fc"
      },
      "execution_count": null,
      "outputs": [
        {
          "output_type": "execute_result",
          "data": {
            "text/plain": [
              "tensor([[1., 2., 3.],\n",
              "        [4., 5., 6.],\n",
              "        [7., 8., 9.]])"
            ]
          },
          "metadata": {},
          "execution_count": 73
        }
      ]
    },
    {
      "cell_type": "markdown",
      "source": [
        "##PyTorch and NumPy\n",
        "\n",
        "PyTorch has functionality to interact with NumPy\n",
        "\n",
        "* Data in NumPy to PyTorch tensor `torch.from_numpy(ndarray)`\n",
        "* Data in PyTorch tensor to NumPy `torch.Tensor.numpy(ndaray)`"
      ],
      "metadata": {
        "id": "8bAVebuAzETG"
      }
    },
    {
      "cell_type": "code",
      "source": [
        "import torch\n",
        "import numpy as np\n",
        "\n",
        "array=np.arange(1.,8.)\n",
        "tensor=torch.from_numpy(array)\n",
        "tensor,array"
      ],
      "metadata": {
        "colab": {
          "base_uri": "https://localhost:8080/"
        },
        "id": "wuRBTueezx_w",
        "outputId": "3c1c6211-0516-4e31-d3e2-b94a6280fd25"
      },
      "execution_count": null,
      "outputs": [
        {
          "output_type": "execute_result",
          "data": {
            "text/plain": [
              "(tensor([1., 2., 3., 4., 5., 6., 7.], dtype=torch.float64),\n",
              " array([1., 2., 3., 4., 5., 6., 7.]))"
            ]
          },
          "metadata": {},
          "execution_count": 74
        }
      ]
    },
    {
      "cell_type": "markdown",
      "source": [
        "When converting from numpy to pytorch it reflects the datatype of numpy which is float64 whereas as the default datatype of torch is float32"
      ],
      "metadata": {
        "id": "eBotkINX0BJ8"
      }
    },
    {
      "cell_type": "code",
      "source": [
        "tensor=torch.ones(size=(3,3))\n",
        "numpy_tensor=tensor.numpy()"
      ],
      "metadata": {
        "id": "DFQS_wNRz9YD"
      },
      "execution_count": null,
      "outputs": []
    },
    {
      "cell_type": "code",
      "source": [
        "tensor,numpy_tensor"
      ],
      "metadata": {
        "colab": {
          "base_uri": "https://localhost:8080/"
        },
        "id": "aq9jGjCo0YLG",
        "outputId": "946b1cf4-c9df-4b7a-9b20-40b94e571d45"
      },
      "execution_count": null,
      "outputs": [
        {
          "output_type": "execute_result",
          "data": {
            "text/plain": [
              "(tensor([[1., 1., 1.],\n",
              "         [1., 1., 1.],\n",
              "         [1., 1., 1.]]), array([[1., 1., 1.],\n",
              "        [1., 1., 1.],\n",
              "        [1., 1., 1.]], dtype=float32))"
            ]
          },
          "metadata": {},
          "execution_count": 76
        }
      ]
    },
    {
      "cell_type": "markdown",
      "source": [
        "##Reproducability\n",
        "To reduce randomness we use **random seed**."
      ],
      "metadata": {
        "id": "uGQl-WCR0Zyv"
      }
    },
    {
      "cell_type": "code",
      "source": [
        "#creating 2 random tensors\n",
        "random_tensor_A=torch.rand(4,5)\n",
        "random_tensor_B=torch.rand(4,5)\n",
        "random_tensor_A,random_tensor_B"
      ],
      "metadata": {
        "colab": {
          "base_uri": "https://localhost:8080/"
        },
        "id": "Ri12DSY_06bj",
        "outputId": "ec1c5ebd-17a9-4a6e-ccf4-b54a80d6e53b"
      },
      "execution_count": null,
      "outputs": [
        {
          "output_type": "execute_result",
          "data": {
            "text/plain": [
              "(tensor([[0.8213, 0.3481, 0.5251, 0.6106, 0.6157],\n",
              "         [0.4512, 0.0064, 0.2405, 0.1596, 0.7096],\n",
              "         [0.2350, 0.9627, 0.8093, 0.9273, 0.7258],\n",
              "         [0.2840, 0.3479, 0.9645, 0.4736, 0.1602]]),\n",
              " tensor([[0.7885, 0.1252, 0.5442, 0.9519, 0.1205],\n",
              "         [0.6969, 0.6968, 0.8506, 0.9335, 0.5542],\n",
              "         [0.3524, 0.3896, 0.1593, 0.5996, 0.0899],\n",
              "         [0.7154, 0.9492, 0.8836, 0.9144, 0.4091]]))"
            ]
          },
          "metadata": {},
          "execution_count": 77
        }
      ]
    },
    {
      "cell_type": "code",
      "source": [
        "print(random_tensor_A==random_tensor_B)"
      ],
      "metadata": {
        "colab": {
          "base_uri": "https://localhost:8080/"
        },
        "id": "pwm0TBZr1XFJ",
        "outputId": "4df7a24d-17bc-4dc3-f79d-97cbd833dbc4"
      },
      "execution_count": null,
      "outputs": [
        {
          "output_type": "stream",
          "name": "stdout",
          "text": [
            "tensor([[False, False, False, False, False],\n",
            "        [False, False, False, False, False],\n",
            "        [False, False, False, False, False],\n",
            "        [False, False, False, False, False]])\n"
          ]
        }
      ]
    },
    {
      "cell_type": "code",
      "source": [
        "#setting a random seed\n",
        "RANDOM_SEED=42\n",
        "torch.manual_seed(RANDOM_SEED)\n",
        "\n",
        "random_tensor_C=torch.rand(4,5)\n",
        "\n",
        "torch.manual_seed(42)\n",
        "random_tensor_D=torch.rand(4,5)\n",
        "\n",
        "print(random_tensor_C==random_tensor_D)"
      ],
      "metadata": {
        "colab": {
          "base_uri": "https://localhost:8080/"
        },
        "id": "ke_MXDpc1d-S",
        "outputId": "637100c6-8446-4996-e03b-e2813397e25f"
      },
      "execution_count": null,
      "outputs": [
        {
          "output_type": "stream",
          "name": "stdout",
          "text": [
            "tensor([[True, True, True, True, True],\n",
            "        [True, True, True, True, True],\n",
            "        [True, True, True, True, True],\n",
            "        [True, True, True, True, True]])\n"
          ]
        }
      ]
    },
    {
      "cell_type": "markdown",
      "source": [
        "Use `torch.manal_seed()` every time you use a torch function because it works for only one instance of torch"
      ],
      "metadata": {
        "id": "cZuRZt7813Lp"
      }
    },
    {
      "cell_type": "markdown",
      "source": [
        "##Running tensors and PyTorch objects on the GPU's\n"
      ],
      "metadata": {
        "id": "BdFM9NzH11VT"
      }
    },
    {
      "cell_type": "markdown",
      "source": [
        "###Getting a GPU\n",
        "\n",
        "1. Use the google colab gpu's\n",
        "2. Use your own GPU\n",
        "3. Use cloud computing- GCP,AWS and AZURE\n",
        "\n",
        "For 2,3 PyTorch+CUDA will need some setting up"
      ],
      "metadata": {
        "id": "dCwVMSOP2JqM"
      }
    },
    {
      "cell_type": "code",
      "source": [
        "##Checking for GPU\n",
        "torch.cuda.is_available()"
      ],
      "metadata": {
        "colab": {
          "base_uri": "https://localhost:8080/"
        },
        "id": "ejPdSAJG3BEN",
        "outputId": "0f41343d-9ee5-4b49-d69e-0024016c2231"
      },
      "execution_count": null,
      "outputs": [
        {
          "output_type": "execute_result",
          "data": {
            "text/plain": [
              "True"
            ]
          },
          "metadata": {},
          "execution_count": 80
        }
      ]
    },
    {
      "cell_type": "code",
      "source": [
        "#Setup device agnostic code\n",
        "device='cuda' if torch.cuda.is_available() else 'cpu' #if gpu is available set device to cuda or else make it cpu\n",
        "device"
      ],
      "metadata": {
        "colab": {
          "base_uri": "https://localhost:8080/",
          "height": 36
        },
        "id": "-OEJqTOr3W2c",
        "outputId": "cdec4644-af57-4e73-d4ac-a944cd972f07"
      },
      "execution_count": null,
      "outputs": [
        {
          "output_type": "execute_result",
          "data": {
            "text/plain": [
              "'cuda'"
            ],
            "application/vnd.google.colaboratory.intrinsic+json": {
              "type": "string"
            }
          },
          "metadata": {},
          "execution_count": 81
        }
      ]
    },
    {
      "cell_type": "code",
      "source": [
        "torch.cuda.device_count() #counting the number of gpu's"
      ],
      "metadata": {
        "colab": {
          "base_uri": "https://localhost:8080/"
        },
        "id": "hBjUOuED3n93",
        "outputId": "fc1174ed-eba8-4aef-aa5a-8782f9612c18"
      },
      "execution_count": null,
      "outputs": [
        {
          "output_type": "execute_result",
          "data": {
            "text/plain": [
              "1"
            ]
          },
          "metadata": {},
          "execution_count": 82
        }
      ]
    },
    {
      "cell_type": "markdown",
      "source": [
        "###Putting Tensors to GPU's"
      ],
      "metadata": {
        "id": "f_MqSafe3sXK"
      }
    },
    {
      "cell_type": "code",
      "source": [
        "#creating a tensor\n",
        "tensor=torch.rand([4,5],device='cpu')\n",
        "print(tensor,tensor.device)\n",
        "\n",
        "\n"
      ],
      "metadata": {
        "colab": {
          "base_uri": "https://localhost:8080/"
        },
        "id": "7WgHMlvg39mj",
        "outputId": "d09aaf6f-ebd1-46d2-aae2-e0a53d4f2c9f"
      },
      "execution_count": null,
      "outputs": [
        {
          "output_type": "stream",
          "name": "stdout",
          "text": [
            "tensor([[0.2696, 0.4414, 0.2969, 0.8317, 0.1053],\n",
            "        [0.2695, 0.3588, 0.1994, 0.5472, 0.0062],\n",
            "        [0.9516, 0.0753, 0.8860, 0.5832, 0.3376],\n",
            "        [0.8090, 0.5779, 0.9040, 0.5547, 0.3423]]) cpu\n"
          ]
        }
      ]
    },
    {
      "cell_type": "code",
      "source": [
        "#move tensor to gpu\n",
        "tensor_on_gpu=tensor.to(device)\n",
        "tensor_on_gpu"
      ],
      "metadata": {
        "colab": {
          "base_uri": "https://localhost:8080/"
        },
        "id": "LRvhN8f44JDB",
        "outputId": "4d9be8a6-1677-49de-9cfa-cb28c30292af"
      },
      "execution_count": null,
      "outputs": [
        {
          "output_type": "execute_result",
          "data": {
            "text/plain": [
              "tensor([[0.2696, 0.4414, 0.2969, 0.8317, 0.1053],\n",
              "        [0.2695, 0.3588, 0.1994, 0.5472, 0.0062],\n",
              "        [0.9516, 0.0753, 0.8860, 0.5832, 0.3376],\n",
              "        [0.8090, 0.5779, 0.9040, 0.5547, 0.3423]], device='cuda:0')"
            ]
          },
          "metadata": {},
          "execution_count": 84
        }
      ]
    },
    {
      "cell_type": "code",
      "source": [
        "#if tensor is on gpu we cant convert it to numpy\n",
        "tensor_on_gpu.numpy()"
      ],
      "metadata": {
        "colab": {
          "base_uri": "https://localhost:8080/",
          "height": 200
        },
        "id": "RCKXoaJq4QSj",
        "outputId": "58513978-b053-443d-ada2-268f039803a9"
      },
      "execution_count": null,
      "outputs": [
        {
          "output_type": "error",
          "ename": "TypeError",
          "evalue": "ignored",
          "traceback": [
            "\u001b[0;31m---------------------------------------------------------------------------\u001b[0m",
            "\u001b[0;31mTypeError\u001b[0m                                 Traceback (most recent call last)",
            "\u001b[0;32m<ipython-input-85-a2737fcb69df>\u001b[0m in \u001b[0;36m<module>\u001b[0;34m\u001b[0m\n\u001b[1;32m      1\u001b[0m \u001b[0;31m#if tensor is on gpu we cant convert it to numpy\u001b[0m\u001b[0;34m\u001b[0m\u001b[0;34m\u001b[0m\u001b[0;34m\u001b[0m\u001b[0m\n\u001b[0;32m----> 2\u001b[0;31m \u001b[0mtensor_on_gpu\u001b[0m\u001b[0;34m.\u001b[0m\u001b[0mnumpy\u001b[0m\u001b[0;34m(\u001b[0m\u001b[0;34m)\u001b[0m\u001b[0;34m\u001b[0m\u001b[0;34m\u001b[0m\u001b[0m\n\u001b[0m",
            "\u001b[0;31mTypeError\u001b[0m: can't convert cuda:0 device type tensor to numpy. Use Tensor.cpu() to copy the tensor to host memory first."
          ]
        }
      ]
    },
    {
      "cell_type": "code",
      "source": [
        "#to fix the above thing\n",
        "tensor_on_cpu=tensor_on_gpu.cpu().numpy()\n",
        "tensor_on_cpu"
      ],
      "metadata": {
        "colab": {
          "base_uri": "https://localhost:8080/"
        },
        "id": "39Cfz94V4g7a",
        "outputId": "54e2264c-55f8-4f26-832f-e6e9bbcd46fc"
      },
      "execution_count": null,
      "outputs": [
        {
          "output_type": "execute_result",
          "data": {
            "text/plain": [
              "array([[0.26963168, 0.44136357, 0.29692084, 0.8316855 , 0.10531491],\n",
              "       [0.26949483, 0.35881263, 0.19936377, 0.54719156, 0.00616044],\n",
              "       [0.95155454, 0.07526588, 0.8860137 , 0.5832096 , 0.33764774],\n",
              "       [0.808975  , 0.5779254 , 0.9039817 , 0.55465984, 0.3423134 ]],\n",
              "      dtype=float32)"
            ]
          },
          "metadata": {},
          "execution_count": 86
        }
      ]
    },
    {
      "cell_type": "code",
      "source": [],
      "metadata": {
        "id": "jGeewfsL4rlB"
      },
      "execution_count": null,
      "outputs": []
    }
  ]
}